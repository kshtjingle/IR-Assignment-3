{
 "cells": [
  {
   "cell_type": "code",
   "execution_count": 1,
   "metadata": {},
   "outputs": [],
   "source": [
    "import numpy as np\n",
    "import pandas as pd"
   ]
  },
  {
   "cell_type": "code",
   "execution_count": 2,
   "metadata": {},
   "outputs": [],
   "source": [
    "import math\n",
    "import copy"
   ]
  },
  {
   "cell_type": "code",
   "execution_count": 3,
   "metadata": {},
   "outputs": [
    {
     "name": "stderr",
     "output_type": "stream",
     "text": [
      "/home/vedant/anaconda3/lib/python3.6/site-packages/ipykernel_launcher.py:2: ParserWarning: Falling back to the 'python' engine because the 'c' engine does not support regex separators (separators > 1 char and different from '\\s+' are interpreted as regex); you can avoid this warning by specifying engine='python'.\n",
      "  \n"
     ]
    }
   ],
   "source": [
    "rating_df_columns = [\"UserId\", \"MovieId\", \"Rating\", \"TimeStamp\"]\n",
    "rating_df = pd.read_table(\"ml-1m/ratings.dat\", sep=\"::\", names=rating_df_columns)\n"
   ]
  },
  {
   "cell_type": "code",
   "execution_count": 4,
   "metadata": {},
   "outputs": [],
   "source": [
    "rating_df.drop(index= range(20000,1000209), inplace=True)"
   ]
  },
  {
   "cell_type": "code",
   "execution_count": 5,
   "metadata": {},
   "outputs": [],
   "source": [
    "### Train(0.80) test(0.20) random split \n",
    "\n",
    "train_rating_df = rating_df.sample(frac = 0.8, random_state=201)\n",
    "test_rating_df = rating_df.drop(train_rating_df.index)\n",
    "\n",
    "train_users = max(train_rating_df[\"UserId\"])\n",
    "train_movies = max(train_rating_df[\"MovieId\"])\n",
    "\n",
    "test_users = max(test_rating_df[\"UserId\"])\n",
    "test_movies = max(test_rating_df[\"MovieId\"])\n",
    "\n",
    "assert train_users == test_users\n",
    "assert train_movies == test_movies"
   ]
  },
  {
   "cell_type": "code",
   "execution_count": 6,
   "metadata": {},
   "outputs": [],
   "source": [
    "train_rating_df = train_rating_df.pivot(index = 'UserId', columns='MovieId', values='Rating').fillna(0)\n",
    "test_rating_df = test_rating_df.pivot(index = 'UserId', columns='MovieId', values='Rating').fillna(0)"
   ]
  },
  {
   "cell_type": "code",
   "execution_count": 7,
   "metadata": {},
   "outputs": [
    {
     "name": "stdout",
     "output_type": "stream",
     "text": [
      "3952\r"
     ]
    }
   ],
   "source": [
    "zero_mat = np.zeros(train_users)\n",
    "for i in range(1, train_movies + 1):\n",
    "    print(i, end = \"\\r\")\n",
    "    if i not in train_rating_df.columns:   \n",
    "        zero_df = pd.DataFrame(zero_mat,columns=[i],index=range(1,150))\n",
    "        train_rating_df = train_rating_df.join(zero_df)\n",
    "    if i not in test_rating_df.columns:\n",
    "        zero_df = pd.DataFrame(zero_mat,columns=[i],index=range(1,150))\n",
    "        test_rating_df = test_rating_df.join(zero_df)\n",
    "\n",
    "train_rating_df = train_rating_df[range(1, train_movies + 1)]\n",
    "test_rating_df = test_rating_df[range(1, test_movies + 1)]"
   ]
  },
  {
   "cell_type": "code",
   "execution_count": 8,
   "metadata": {},
   "outputs": [],
   "source": [
    "train_rating_matrix = np.asarray(train_rating_df)\n",
    "test_rating_matrix = np.asarray(test_rating_df)\n",
    "\n",
    "assert train_rating_matrix.shape == test_rating_matrix.shape"
   ]
  },
  {
   "cell_type": "code",
   "execution_count": 9,
   "metadata": {},
   "outputs": [],
   "source": [
    "### Mean center\n",
    "### Handle strict and lineant\n",
    "\n",
    "def mean_center(A):\n",
    "    mean_centered_A = np.copy(A)\n",
    "    for row in range(A.shape[0]):\n",
    "        ratings_sum = A[row].sum()\n",
    "        movies_rated = (A[row] > 0).sum()\n",
    "        mean = ratings_sum/movies_rated\n",
    "        for i in A[row].nonzero():\n",
    "            mean_centered_A[row][i] -= mean\n",
    "    return mean_centered_A"
   ]
  },
  {
   "cell_type": "code",
   "execution_count": 10,
   "metadata": {},
   "outputs": [],
   "source": [
    "train_rating_matrix_centered = mean_center(train_rating_matrix)\n",
    "test_rating_matrix_centered = mean_center(test_rating_matrix)"
   ]
  },
  {
   "cell_type": "code",
   "execution_count": 11,
   "metadata": {},
   "outputs": [],
   "source": [
    "#### User-User collabarative filtering\n",
    "#### Find k most similar users who have rated that movie.\n",
    "\n",
    "### Find similarity matrix based on row\n",
    "\n",
    "def find_similarity(A):\n",
    "    similarity = np.zeros((A.shape[0], A.shape[0]))\n",
    "    for i in range(A.shape[0]):\n",
    "        for j in range(i+1, A.shape[0]):\n",
    "            similarity_ij = np.dot(A[i], A[j])\n",
    "            similarity_ij /= (np.sqrt(np.dot(A[i], A[i])) * np.sqrt(np.dot(A[j], A[j])))\n",
    "            similarity[i][j] = similarity[j][i] = similarity_ij\n",
    "        print(i, end = \"\\r\")\n",
    "    return similarity"
   ]
  },
  {
   "cell_type": "code",
   "execution_count": 12,
   "metadata": {},
   "outputs": [
    {
     "name": "stdout",
     "output_type": "stream",
     "text": [
      "148\r"
     ]
    }
   ],
   "source": [
    "### User User collabrative filtering with k = 5\n",
    "\n",
    "k = 15\n",
    "predicted_rating_matrix = np.zeros(train_rating_matrix_centered.shape)\n",
    "for user in range(train_rating_matrix_centered.shape[0]):\n",
    "    print(user, end = '\\r')\n",
    "    user_user_similarity = []\n",
    "    mod = np.sqrt(np.dot(train_rating_matrix_centered[user], train_rating_matrix_centered[user]))\n",
    "    for i in range(train_rating_matrix_centered.shape[0]):\n",
    "        similarity = np.dot(train_rating_matrix_centered[user], train_rating_matrix_centered[i])\n",
    "        similarity /= (mod  * np.sqrt(np.dot(train_rating_matrix_centered[i], train_rating_matrix_centered[i])))\n",
    "        user_user_similarity.append(similarity)\n",
    "    \n",
    "    similarity = np.asarray(user_user_similarity)\n",
    "    sorted_similarity = np.argsort(-similarity)\n",
    "    \n",
    "    for movie in range(train_rating_matrix_centered.shape[1]):\n",
    "        if train_rating_matrix[user][movie] == 0 and test_rating_matrix[user][movie] != 0:\n",
    "            cnt = 0\n",
    "            weighted_sum = 0\n",
    "            sum_of_weights = 0\n",
    "            for similar_user in sorted_similarity:\n",
    "                if train_rating_matrix[similar_user][movie] != 0 and similarity[similar_user] > 0:\n",
    "                    cnt += 1\n",
    "                    weighted_sum += similarity[similar_user] * train_rating_matrix_centered[similar_user][movie]\n",
    "                    sum_of_weights += similarity[similar_user]\n",
    "                    predicted_rating_matrix[user][movie] = weighted_sum/sum_of_weights\n",
    "                if cnt == k:\n",
    "                    break\n",
    "\n",
    "        \n",
    "                "
   ]
  },
  {
   "cell_type": "code",
   "execution_count": 13,
   "metadata": {},
   "outputs": [],
   "source": [
    "error = 0\n",
    "cnt = 0\n",
    "for user in range(test_rating_matrix.shape[0]):\n",
    "    for movie in range(test_rating_matrix_centered.shape[1]):\n",
    "        ## Both conditions are necessary as both are required.\n",
    "        if test_rating_matrix[user][movie] != 0 and predicted_rating_matrix[user][movie] != 0:\n",
    "            error += ((predicted_rating_matrix[user][movie] - test_rating_matrix_centered[user][movie]) ** 2)\n",
    "            cnt += 1\n",
    "mse = np.sqrt(error/cnt)"
   ]
  },
  {
   "cell_type": "code",
   "execution_count": 14,
   "metadata": {},
   "outputs": [
    {
     "name": "stdout",
     "output_type": "stream",
     "text": [
      "1.0254699630900137\n"
     ]
    }
   ],
   "source": [
    "print(mse)"
   ]
  },
  {
   "cell_type": "code",
   "execution_count": 19,
   "metadata": {},
   "outputs": [
    {
     "name": "stdout",
     "output_type": "stream",
     "text": [
      "0\r",
      "1\r",
      "2\r",
      "3\r",
      "4\r",
      "5\r",
      "6\r",
      "7\r",
      "8\r",
      "9\r",
      "10\r"
     ]
    },
    {
     "name": "stderr",
     "output_type": "stream",
     "text": [
      "/home/vedant/anaconda3/lib/python3.6/site-packages/ipykernel_launcher.py:19: RuntimeWarning: invalid value encountered in double_scalars\n"
     ]
    },
    {
     "name": "stdout",
     "output_type": "stream",
     "text": [
      "3951\r"
     ]
    }
   ],
   "source": [
    "### Item-Item collabarative filtering\n",
    "\n",
    "train_rating_matrix_centered_transpose = train_rating_matrix_centered.T\n",
    "test_rating_matrix_centered_transose = test_rating_matrix_centered.T\n",
    "test_rating_matrix_transpose = test_rating_matrix.T\n",
    "k = 15\n",
    "predicted_rating_matrix_item = np.zeros(train_rating_matrix_centered_transpose.shape)\n",
    "\n",
    "for movie in range(train_rating_matrix_centered_transpose.shape[0]):\n",
    "    item_item_similarity = []\n",
    "    mod = np.sqrt(np.dot(train_rating_matrix_centered_transpose[movie], train_rating_matrix_centered_transpose[movie]))\n",
    "    print(movie, end = \"\\r\")\n",
    "    for i in range(train_rating_matrix_centered_transpose.shape[0]):\n",
    "        similarity = np.dot(train_rating_matrix_centered_transpose[movie], train_rating_matrix_centered_transpose[i])\n",
    "        mod2 = np.sqrt(np.dot(train_rating_matrix_centered_transpose[i], train_rating_matrix_centered_transpose[i]))\n",
    "        if mod2 == 0:\n",
    "            similarity = 0\n",
    "        else:\n",
    "            similarity /= (mod * mod2) \n",
    "        item_item_similarity.append(similarity)\n",
    "    \n",
    "    similarity = np.asarray(item_item_similarity)\n",
    "    sorted_similarity = np.argsort(-similarity)\n",
    "    \n",
    "    for user in range(train_rating_matrix_centered_transpose.shape[1]):\n",
    "        if test_rating_matrix_transpose[movie][user] != 0:\n",
    "            cnt = 0\n",
    "            weighted_sum = 0\n",
    "            sum_of_weights = 0\n",
    "            for similar_movie in sorted_similarity:\n",
    "                if train_rating_matrix_centered_transpose[similar_movie][user] != 0 and similarity[similar_movie] > 0:\n",
    "                    cnt += 1\n",
    "                    weighted_sum += similarity[similar_movie] * train_rating_matrix_centered_transpose[similar_movie][user]\n",
    "                    sum_of_weights += similarity[similar_movie]\n",
    "                    predicted_rating_matrix_item[movie][user] = weighted_sum/sum_of_weights\n",
    "                    if cnt == k:\n",
    "                        break\n",
    "            \n",
    "                \n",
    "                "
   ]
  },
  {
   "cell_type": "code",
   "execution_count": 16,
   "metadata": {},
   "outputs": [],
   "source": [
    "error = 0\n",
    "cnt = 0\n",
    "for movie in range(test_rating_matrix_transpose.shape[0]):\n",
    "    for user in range(test_rating_matrix_transpose.shape[1]):\n",
    "        if test_rating_matrix_transpose[movie][user] != 0 and predicted_rating_matrix_item[movie][user] != 0:\n",
    "            error += ((predicted_rating_matrix_item[movie][user] - test_rating_matrix_transpose[movie][user]) ** 2)\n",
    "            cnt += 1\n",
    "mse = np.sqrt(error/cnt)"
   ]
  },
  {
   "cell_type": "code",
   "execution_count": 17,
   "metadata": {},
   "outputs": [
    {
     "name": "stdout",
     "output_type": "stream",
     "text": [
      "52646.20702861256\n"
     ]
    }
   ],
   "source": [
    "print(error)"
   ]
  },
  {
   "cell_type": "code",
   "execution_count": 18,
   "metadata": {},
   "outputs": [
    {
     "name": "stdout",
     "output_type": "stream",
     "text": [
      "3.705591055075076\n"
     ]
    }
   ],
   "source": [
    "print(mse)"
   ]
  },
  {
   "cell_type": "code",
   "execution_count": null,
   "metadata": {},
   "outputs": [],
   "source": []
  }
 ],
 "metadata": {
  "kernelspec": {
   "display_name": "Python 3",
   "language": "python",
   "name": "python3"
  },
  "language_info": {
   "codemirror_mode": {
    "name": "ipython",
    "version": 3
   },
   "file_extension": ".py",
   "mimetype": "text/x-python",
   "name": "python",
   "nbconvert_exporter": "python",
   "pygments_lexer": "ipython3",
   "version": "3.6.9"
  }
 },
 "nbformat": 4,
 "nbformat_minor": 2
}
