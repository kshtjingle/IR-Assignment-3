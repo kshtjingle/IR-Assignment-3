{
 "cells": [
  {
   "cell_type": "code",
   "execution_count": 1,
   "metadata": {},
   "outputs": [],
   "source": [
    "import numpy as np\n",
    "import pandas as pd"
   ]
  },
  {
   "cell_type": "code",
   "execution_count": 2,
   "metadata": {},
   "outputs": [],
   "source": [
    "import math"
   ]
  },
  {
   "cell_type": "code",
   "execution_count": 3,
   "metadata": {},
   "outputs": [
    {
     "name": "stderr",
     "output_type": "stream",
     "text": [
      "/home/vedant/anaconda3/lib/python3.6/site-packages/ipykernel_launcher.py:2: ParserWarning: Falling back to the 'python' engine because the 'c' engine does not support regex separators (separators > 1 char and different from '\\s+' are interpreted as regex); you can avoid this warning by specifying engine='python'.\n",
      "  \n"
     ]
    }
   ],
   "source": [
    "rating_columns = [\"UserId\", \"MovieId\", \"Rating\", \"TimeStamp\"]\n",
    "rating_dat = pd.read_table(\"ml-1m/ratings.dat\", sep=\"::\", names=rating_columns)"
   ]
  },
  {
   "cell_type": "code",
   "execution_count": 4,
   "metadata": {},
   "outputs": [],
   "source": [
    "### Train(0.80) test(0.20) random split \n",
    "\n",
    "train_rating_dat = rating_dat.sample(frac = 0.8, random_state=201)\n",
    "test_rating_dat = rating_dat.drop(train_rating_dat.index)\n",
    "\n",
    "train_users = max(train_rating_dat[\"UserId\"])\n",
    "train_movies = max(train_rating_dat[\"MovieId\"])\n",
    "\n",
    "test_users = max(test_rating_dat[\"UserId\"])\n",
    "test_movies = max(test_rating_dat[\"MovieId\"])\n",
    "\n",
    "assert train_users == test_users\n",
    "assert train_movies == test_movies"
   ]
  },
  {
   "cell_type": "code",
   "execution_count": 5,
   "metadata": {},
   "outputs": [],
   "source": [
    "train_rating_matrix = train_rating_dat.pivot(index = 'UserId', columns='MovieId', values='Rating')\n",
    "test_rating_matrix = test_rating_dat.pivot(index = 'UserId', columns='MovieId', values='Rating')"
   ]
  },
  {
   "cell_type": "code",
   "execution_count": 101,
   "metadata": {},
   "outputs": [],
   "source": [
    "users = max(ratings[\"UserId\"])\n",
    "movies = max(ratings[\"MovieId\"])"
   ]
  },
  {
   "cell_type": "code",
   "execution_count": 115,
   "metadata": {},
   "outputs": [
    {
     "data": {
      "text/html": [
       "<div>\n",
       "<style scoped>\n",
       "    .dataframe tbody tr th:only-of-type {\n",
       "        vertical-align: middle;\n",
       "    }\n",
       "\n",
       "    .dataframe tbody tr th {\n",
       "        vertical-align: top;\n",
       "    }\n",
       "\n",
       "    .dataframe thead th {\n",
       "        text-align: right;\n",
       "    }\n",
       "</style>\n",
       "<table border=\"1\" class=\"dataframe\">\n",
       "  <thead>\n",
       "    <tr style=\"text-align: right;\">\n",
       "      <th></th>\n",
       "      <th>UserId</th>\n",
       "      <th>MovieId</th>\n",
       "      <th>Rating</th>\n",
       "      <th>TimeStamp</th>\n",
       "    </tr>\n",
       "  </thead>\n",
       "  <tbody>\n",
       "    <tr>\n",
       "      <td>16</td>\n",
       "      <td>1</td>\n",
       "      <td>2687</td>\n",
       "      <td>3</td>\n",
       "      <td>978824268</td>\n",
       "    </tr>\n",
       "    <tr>\n",
       "      <td>22</td>\n",
       "      <td>1</td>\n",
       "      <td>1270</td>\n",
       "      <td>5</td>\n",
       "      <td>978300055</td>\n",
       "    </tr>\n",
       "    <tr>\n",
       "      <td>26</td>\n",
       "      <td>1</td>\n",
       "      <td>1097</td>\n",
       "      <td>4</td>\n",
       "      <td>978301953</td>\n",
       "    </tr>\n",
       "    <tr>\n",
       "      <td>27</td>\n",
       "      <td>1</td>\n",
       "      <td>1721</td>\n",
       "      <td>4</td>\n",
       "      <td>978300055</td>\n",
       "    </tr>\n",
       "    <tr>\n",
       "      <td>31</td>\n",
       "      <td>1</td>\n",
       "      <td>3186</td>\n",
       "      <td>4</td>\n",
       "      <td>978300019</td>\n",
       "    </tr>\n",
       "    <tr>\n",
       "      <td>...</td>\n",
       "      <td>...</td>\n",
       "      <td>...</td>\n",
       "      <td>...</td>\n",
       "      <td>...</td>\n",
       "    </tr>\n",
       "    <tr>\n",
       "      <td>1000184</td>\n",
       "      <td>6040</td>\n",
       "      <td>2791</td>\n",
       "      <td>4</td>\n",
       "      <td>956715569</td>\n",
       "    </tr>\n",
       "    <tr>\n",
       "      <td>1000187</td>\n",
       "      <td>6040</td>\n",
       "      <td>2003</td>\n",
       "      <td>1</td>\n",
       "      <td>956716294</td>\n",
       "    </tr>\n",
       "    <tr>\n",
       "      <td>1000192</td>\n",
       "      <td>6040</td>\n",
       "      <td>2019</td>\n",
       "      <td>5</td>\n",
       "      <td>956703977</td>\n",
       "    </tr>\n",
       "    <tr>\n",
       "      <td>1000194</td>\n",
       "      <td>6040</td>\n",
       "      <td>1077</td>\n",
       "      <td>5</td>\n",
       "      <td>964828799</td>\n",
       "    </tr>\n",
       "    <tr>\n",
       "      <td>1000200</td>\n",
       "      <td>6040</td>\n",
       "      <td>2028</td>\n",
       "      <td>5</td>\n",
       "      <td>956704519</td>\n",
       "    </tr>\n",
       "  </tbody>\n",
       "</table>\n",
       "<p>200042 rows × 4 columns</p>\n",
       "</div>"
      ],
      "text/plain": [
       "         UserId  MovieId  Rating  TimeStamp\n",
       "16            1     2687       3  978824268\n",
       "22            1     1270       5  978300055\n",
       "26            1     1097       4  978301953\n",
       "27            1     1721       4  978300055\n",
       "31            1     3186       4  978300019\n",
       "...         ...      ...     ...        ...\n",
       "1000184    6040     2791       4  956715569\n",
       "1000187    6040     2003       1  956716294\n",
       "1000192    6040     2019       5  956703977\n",
       "1000194    6040     1077       5  964828799\n",
       "1000200    6040     2028       5  956704519\n",
       "\n",
       "[200042 rows x 4 columns]"
      ]
     },
     "execution_count": 115,
     "metadata": {},
     "output_type": "execute_result"
    }
   ],
   "source": []
  },
  {
   "cell_type": "code",
   "execution_count": 102,
   "metadata": {},
   "outputs": [
    {
     "name": "stdout",
     "output_type": "stream",
     "text": [
      "CPU times: user 1.19 s, sys: 168 ms, total: 1.36 s\n",
      "Wall time: 993 ms\n"
     ]
    }
   ],
   "source": [
    "%%time\n",
    "\n",
    "rating_matrix_dat = rating_dat.pivot(index = 'UserId', columns = 'MovieId', values = 'Rating').fillna(0)\n",
    "rating_matrix = np.asarray(rating_matrix_dat)"
   ]
  },
  {
   "cell_type": "code",
   "execution_count": 108,
   "metadata": {},
   "outputs": [
    {
     "data": {
      "text/plain": [
       "(array([   0,   47,  144,  253,  513,  517,  574,  580,  581,  593,  639,\n",
       "         689,  708,  740,  853,  858,  877,  957,  963,  964,  970, 1025,\n",
       "        1104, 1107, 1117, 1154, 1178, 1195, 1421, 1439, 1574, 1658, 1727,\n",
       "        1781, 1782, 1838, 1848, 2102, 2128, 2147, 2162, 2205, 2483, 2488,\n",
       "        2557, 2586, 2592, 2599, 2710, 2889, 2898, 2969, 3177]),)"
      ]
     },
     "execution_count": 108,
     "metadata": {},
     "output_type": "execute_result"
    }
   ],
   "source": [
    "rating_matrix[0].nonzero()"
   ]
  },
  {
   "cell_type": "code",
   "execution_count": 103,
   "metadata": {},
   "outputs": [],
   "source": [
    "### For testing matrix 0.20 testing\n",
    "\n",
    "start_row = math.floor(rating_matrix.shape[0] * 0.20)\n",
    "start_col = math.floor(rating_matrix.shape[1] * 0.20)\n",
    "test_rating_matrix = np.zeros((start_row, start_col))"
   ]
  },
  {
   "cell_type": "code",
   "execution_count": 96,
   "metadata": {},
   "outputs": [],
   "source": [
    "### User-User colabarative filtering\n",
    "\n",
    "def mean_center(A):\n",
    "    mean_centered_A = np.zeros(A.shape)\n",
    "    for row in range(len(A.shape[0])):\n",
    "        ratings_sum = A[row].sum()\n",
    "        movies_rated = (A[row] > 0).sum()\n",
    "        mean = ratings_sum/movies_rated\n",
    "        mean[row] = A[row] - mean"
   ]
  },
  {
   "cell_type": "code",
   "execution_count": 52,
   "metadata": {},
   "outputs": [
    {
     "name": "stderr",
     "output_type": "stream",
     "text": [
      "/home/vedant/anaconda3/lib/python3.6/site-packages/ipykernel_launcher.py:8: RuntimeWarning: invalid value encountered in double_scalars\n",
      "  \n"
     ]
    }
   ],
   "source": [
    "mean_centered_A = mean_center(A)"
   ]
  },
  {
   "cell_type": "code",
   "execution_count": 64,
   "metadata": {},
   "outputs": [],
   "source": [
    "new = np.zeros((2,2))\n",
    "newb = np.zeros((2,2))"
   ]
  },
  {
   "cell_type": "code",
   "execution_count": 65,
   "metadata": {},
   "outputs": [],
   "source": [
    "new[0][0]= 1"
   ]
  },
  {
   "cell_type": "code",
   "execution_count": 72,
   "metadata": {},
   "outputs": [],
   "source": [
    "newc = np.asarray([0,1])"
   ]
  },
  {
   "cell_type": "code",
   "execution_count": 73,
   "metadata": {},
   "outputs": [
    {
     "data": {
      "text/plain": [
       "array([0, 1])"
      ]
     },
     "execution_count": 73,
     "metadata": {},
     "output_type": "execute_result"
    }
   ],
   "source": []
  },
  {
   "cell_type": "code",
   "execution_count": 68,
   "metadata": {},
   "outputs": [
    {
     "data": {
      "text/plain": [
       "array([[1., 0.],\n",
       "       [0., 0.]])"
      ]
     },
     "execution_count": 68,
     "metadata": {},
     "output_type": "execute_result"
    }
   ],
   "source": [
    "newb"
   ]
  },
  {
   "cell_type": "code",
   "execution_count": 69,
   "metadata": {},
   "outputs": [
    {
     "data": {
      "text/plain": [
       "array([[        nan,         nan,         nan, ...,         nan,\n",
       "                nan,         nan],\n",
       "       [-4.18867925,  0.81132075, -4.18867925, ..., -4.18867925,\n",
       "        -4.18867925, -4.18867925],\n",
       "       [-3.71317829, -3.71317829, -3.71317829, ..., -3.71317829,\n",
       "        -3.71317829, -3.71317829],\n",
       "       ...,\n",
       "       [-3.8       , -3.8       , -3.8       , ..., -3.8       ,\n",
       "        -3.8       , -3.8       ],\n",
       "       [-3.87804878, -3.87804878, -3.87804878, ..., -3.87804878,\n",
       "        -3.87804878, -3.87804878],\n",
       "       [-3.57771261, -0.57771261, -3.57771261, ..., -3.57771261,\n",
       "        -3.57771261, -3.57771261]])"
      ]
     },
     "execution_count": 69,
     "metadata": {},
     "output_type": "execute_result"
    }
   ],
   "source": [
    "mean_centered_A"
   ]
  },
  {
   "cell_type": "code",
   "execution_count": null,
   "metadata": {},
   "outputs": [],
   "source": []
  }
 ],
 "metadata": {
  "kernelspec": {
   "display_name": "Python 3",
   "language": "python",
   "name": "python3"
  },
  "language_info": {
   "codemirror_mode": {
    "name": "ipython",
    "version": 3
   },
   "file_extension": ".py",
   "mimetype": "text/x-python",
   "name": "python",
   "nbconvert_exporter": "python",
   "pygments_lexer": "ipython3",
   "version": "3.6.9"
  }
 },
 "nbformat": 4,
 "nbformat_minor": 2
}
