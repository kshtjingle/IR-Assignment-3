{
 "cells": [
  {
   "cell_type": "code",
   "execution_count": 2,
   "metadata": {},
   "outputs": [],
   "source": [
    "import numpy as np\n",
    "import pandas as pd"
   ]
  },
  {
   "cell_type": "code",
   "execution_count": 3,
   "metadata": {},
   "outputs": [],
   "source": [
    "import math"
   ]
  },
  {
   "cell_type": "code",
   "execution_count": 4,
   "metadata": {},
   "outputs": [
    {
     "name": "stderr",
     "output_type": "stream",
     "text": [
      "/home/vedant/anaconda3/lib/python3.6/site-packages/ipykernel_launcher.py:2: ParserWarning: Falling back to the 'python' engine because the 'c' engine does not support regex separators (separators > 1 char and different from '\\s+' are interpreted as regex); you can avoid this warning by specifying engine='python'.\n",
      "  \n"
     ]
    }
   ],
   "source": [
    "rating_columns = [\"UserId\", \"MovieId\", \"Rating\", \"TimeStamp\"]\n",
    "rating_dat = pd.read_table(\"ml-1m/ratings.dat\", sep=\"::\", names=rating_columns)"
   ]
  },
  {
   "cell_type": "code",
   "execution_count": 5,
   "metadata": {},
   "outputs": [],
   "source": [
    "### Train(0.80) test(0.20) random split \n",
    "\n",
    "train_rating_dat = rating_dat.sample(frac = 0.8, random_state=201)\n",
    "test_rating_dat = rating_dat.drop(train_rating_dat.index)\n",
    "\n",
    "train_users = max(train_rating_dat[\"UserId\"])\n",
    "train_movies = max(train_rating_dat[\"MovieId\"])\n",
    "\n",
    "test_users = max(test_rating_dat[\"UserId\"])\n",
    "test_movies = max(test_rating_dat[\"MovieId\"])\n",
    "\n",
    "assert train_users == test_users\n",
    "assert train_movies == test_movies"
   ]
  },
  {
   "cell_type": "code",
   "execution_count": 6,
   "metadata": {},
   "outputs": [],
   "source": [
    "train_rating_matrix = train_rating_dat.pivot(index = 'UserId', columns='MovieId', values='Rating')\n",
    "test_rating_matrix = test_rating_dat.pivot(index = 'UserId', columns='MovieId', values='Rating')"
   ]
  },
  {
   "cell_type": "code",
   "execution_count": 7,
   "metadata": {},
   "outputs": [
    {
     "ename": "NameError",
     "evalue": "name 'ratings' is not defined",
     "output_type": "error",
     "traceback": [
      "\u001b[0;31m---------------------------------------------------------------------------\u001b[0m",
      "\u001b[0;31mNameError\u001b[0m                                 Traceback (most recent call last)",
      "\u001b[0;32m<ipython-input-7-c211c7731b79>\u001b[0m in \u001b[0;36m<module>\u001b[0;34m\u001b[0m\n\u001b[0;32m----> 1\u001b[0;31m \u001b[0musers\u001b[0m \u001b[0;34m=\u001b[0m \u001b[0mmax\u001b[0m\u001b[0;34m(\u001b[0m\u001b[0mratings\u001b[0m\u001b[0;34m[\u001b[0m\u001b[0;34m\"UserId\"\u001b[0m\u001b[0;34m]\u001b[0m\u001b[0;34m)\u001b[0m\u001b[0;34m\u001b[0m\u001b[0;34m\u001b[0m\u001b[0m\n\u001b[0m\u001b[1;32m      2\u001b[0m \u001b[0mmovies\u001b[0m \u001b[0;34m=\u001b[0m \u001b[0mmax\u001b[0m\u001b[0;34m(\u001b[0m\u001b[0mratings\u001b[0m\u001b[0;34m[\u001b[0m\u001b[0;34m\"MovieId\"\u001b[0m\u001b[0;34m]\u001b[0m\u001b[0;34m)\u001b[0m\u001b[0;34m\u001b[0m\u001b[0;34m\u001b[0m\u001b[0m\n",
      "\u001b[0;31mNameError\u001b[0m: name 'ratings' is not defined"
     ]
    }
   ],
   "source": [
    "users = max(ratings[\"UserId\"])\n",
    "movies = max(ratings[\"MovieId\"])"
   ]
  },
  {
   "cell_type": "code",
   "execution_count": null,
   "metadata": {},
   "outputs": [],
   "source": [
    "%%time\n",
    "\n",
    "rating_matrix_dat = rating_dat.pivot(index = 'UserId', columns = 'MovieId', values = 'Rating').fillna(0)\n",
    "rating_matrix = np.asarray(rating_matrix_dat)"
   ]
  },
  {
   "cell_type": "code",
   "execution_count": null,
   "metadata": {},
   "outputs": [],
   "source": [
    "### For testing matrix 0.20 testing\n",
    "\n",
    "start_row = math.floor(rating_matrix.shape[0] * 0.20)\n",
    "start_col = math.floor(rating_matrix.shape[1] * 0.20)\n",
    "test_rating_matrix = np.zeros((start_row, start_col))"
   ]
  },
  {
   "cell_type": "code",
   "execution_count": null,
   "metadata": {},
   "outputs": [],
   "source": [
    "### User-User colabarative filtering\n",
    "\n",
    "def mean_center(A):\n",
    "    mean_centered_A = np.zeros(A.shape)\n",
    "    for row in range(len(A.shape[0])):\n",
    "        ratings_sum = A[row].sum()\n",
    "        movies_rated = (A[row] > 0).sum()\n",
    "        mean = ratings_sum/movies_rated\n",
    "        mean[row] = A[row] - mean\n",
    "        "
   ]
  },
  {
   "cell_type": "code",
   "execution_count": null,
   "metadata": {},
   "outputs": [],
   "source": [
    "mean_centered_A = mean_center(A)"
   ]
  },
  {
   "cell_type": "code",
   "execution_count": null,
   "metadata": {},
   "outputs": [],
   "source": []
  },
  {
   "cell_type": "code",
   "execution_count": null,
   "metadata": {},
   "outputs": [],
   "source": []
  },
  {
   "cell_type": "code",
   "execution_count": null,
   "metadata": {},
   "outputs": [],
   "source": []
  }
 ],
 "metadata": {
  "kernelspec": {
   "display_name": "Python 3",
   "language": "python",
   "name": "python3"
  },
  "language_info": {
   "codemirror_mode": {
    "name": "ipython",
    "version": 3
   },
   "file_extension": ".py",
   "mimetype": "text/x-python",
   "name": "python",
   "nbconvert_exporter": "python",
   "pygments_lexer": "ipython3",
   "version": "3.6.9"
  }
 },
 "nbformat": 4,
 "nbformat_minor": 2
}
