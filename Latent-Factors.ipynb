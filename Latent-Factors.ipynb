{
 "cells": [
  {
   "cell_type": "code",
   "execution_count": 1,
   "metadata": {},
   "outputs": [],
   "source": [
    "import numpy as np\n",
    "import pandas as pd"
   ]
  },
  {
   "cell_type": "code",
   "execution_count": 17,
   "metadata": {},
   "outputs": [],
   "source": [
    "\n",
    "def train_test_split(train_fraction):\n",
    "    rating_df_columns = [\"UserId\", \"MovieId\", \"Rating\", \"TimeStamp\"]\n",
    "    rating_df = pd.read_table(\"ml-1m/ratings.dat\", sep=\"::\", names=rating_df_columns)\n",
    "\n",
    "    rating_df.drop(index= range(20000,1000209), inplace=True)\n",
    "\n",
    "    train_rating_df = rating_df.sample(frac = train_fraction, random_state=201)\n",
    "    test_rating_df = rating_df.drop(train_rating_df.index)\n",
    "\n",
    "    train_users = max(train_rating_df[\"UserId\"])\n",
    "    train_movies = max(train_rating_df[\"MovieId\"])\n",
    "\n",
    "    test_users = max(test_rating_df[\"UserId\"])\n",
    "    test_movies = max(test_rating_df[\"MovieId\"])\n",
    "\n",
    "    assert train_users == test_users\n",
    "    assert train_movies == test_movies\n",
    "\n",
    "    train_rating_df = train_rating_df.pivot(index = 'UserId', columns='MovieId', values='Rating').fillna(0)\n",
    "    test_rating_df = test_rating_df.pivot(index = 'UserId', columns='MovieId', values='Rating').fillna(0)\n",
    "\n",
    "    zero_mat = np.zeros(train_users)\n",
    "    for i in range(1, train_movies + 1):\n",
    "        print(i, end = \"\\r\")\n",
    "        if i not in train_rating_df.columns:   \n",
    "            zero_df = pd.DataFrame(zero_mat,columns=[i],index=range(1,150))\n",
    "            train_rating_df = train_rating_df.join(zero_df)\n",
    "        if i not in test_rating_df.columns:\n",
    "            zero_df = pd.DataFrame(zero_mat,columns=[i],index=range(1,150))\n",
    "            test_rating_df = test_rating_df.join(zero_df)\n",
    "\n",
    "    train_rating_df = train_rating_df[range(1, train_movies + 1)]\n",
    "    test_rating_df = test_rating_df[range(1, test_movies + 1)]\n",
    "\n",
    "    train_rating_matrix = np.asarray(train_rating_df)\n",
    "    test_rating_matrix = np.asarray(test_rating_df)\n",
    "\n",
    "    assert train_rating_matrix.shape == test_rating_matrix.shape\n",
    "\n",
    "    return train_rating_matrix, test_rating_matrix"
   ]
  },
  {
   "cell_type": "code",
   "execution_count": 18,
   "metadata": {},
   "outputs": [
    {
     "name": "stderr",
     "output_type": "stream",
     "text": [
      "/home/vedant/anaconda3/lib/python3.6/site-packages/ipykernel_launcher.py:4: ParserWarning: Falling back to the 'python' engine because the 'c' engine does not support regex separators (separators > 1 char and different from '\\s+' are interpreted as regex); you can avoid this warning by specifying engine='python'.\n",
      "  after removing the cwd from sys.path.\n"
     ]
    },
    {
     "name": "stdout",
     "output_type": "stream",
     "text": [
      "3952\r"
     ]
    }
   ],
   "source": [
    "train_rating_matrix, test_rating_matrix = Train_Test_Split.train_test_split(0.8)"
   ]
  },
  {
   "cell_type": "code",
   "execution_count": 19,
   "metadata": {},
   "outputs": [],
   "source": [
    "def mean_center(train_rating_matrix, test_rating_matrix):\n",
    "    assert train_rating_matrix.shape == test_rating_matrix.shape\n",
    "    A = train_rating_matrix + test_rating_matrix\n",
    "    \n",
    "    train_rating_matrix_centered = np.zeros(A.shape)\n",
    "    test_rating_matrix_centered = np.zeros(A.shape)\n",
    "    \n",
    "    for row in range(A.shape[0]):\n",
    "        ratings_sum = A[row].sum()\n",
    "        movies_rated = (A[row] > 0).sum()\n",
    "        mean = ratings_sum/movies_rated\n",
    "        for i in train_rating_matrix[row].nonzero():\n",
    "            train_rating_matrix_centered[row][i] = A[row][i] - mean\n",
    "        for j in test_rating_matrix[row].nonzero():\n",
    "            test_rating_matrix_centered[row][j] = A[row][j] - mean\n",
    "    return train_rating_matrix_centered, test_rating_matrix_centered"
   ]
  },
  {
   "cell_type": "code",
   "execution_count": 20,
   "metadata": {},
   "outputs": [],
   "source": [
    "train_rating_matrix_centered , test_rating_matrix_centered = mean_center(train_rating_matrix, test_rating_matrix)"
   ]
  },
  {
   "cell_type": "code",
   "execution_count": 23,
   "metadata": {},
   "outputs": [
    {
     "data": {
      "text/plain": [
       "15936"
      ]
     },
     "execution_count": 23,
     "metadata": {},
     "output_type": "execute_result"
    }
   ],
   "source": [
    "(train_rating_matrix_centered != 0).sum()"
   ]
  },
  {
   "cell_type": "code",
   "execution_count": 24,
   "metadata": {},
   "outputs": [
    {
     "data": {
      "text/plain": [
       "3984"
      ]
     },
     "execution_count": 24,
     "metadata": {},
     "output_type": "execute_result"
    }
   ],
   "source": [
    "(test_rating_matrix_centered != 0).sum()"
   ]
  },
  {
   "cell_type": "code",
   "execution_count": 72,
   "metadata": {},
   "outputs": [],
   "source": [
    "def mod(A):\n",
    "    return (A **2).sum()"
   ]
  },
  {
   "cell_type": "code",
   "execution_count": 108,
   "metadata": {},
   "outputs": [],
   "source": [
    "u,s,vh = np.linalg.svd(train_rating_matrix_centered)\n",
    "sig = np.zeros(train_rating_matrix.shape)\n",
    "sig[:149, :149] = np.diag(s)\n"
   ]
  },
  {
   "cell_type": "code",
   "execution_count": 134,
   "metadata": {},
   "outputs": [],
   "source": [
    "k = 40\n",
    "Q = np.random.uniform(size = (A.shape[0], k))\n",
    "P = np.random.uniform(size = (A.shape[1],k ))\n",
    "\n",
    "# Q = np.copy(u)\n",
    "# P = sig.dot(vh).T"
   ]
  },
  {
   "cell_type": "code",
   "execution_count": 135,
   "metadata": {},
   "outputs": [
    {
     "name": "stdout",
     "output_type": "stream",
     "text": [
      "9.91600722935245\n"
     ]
    }
   ],
   "source": [
    "pred_A_lf = Q.dot(P.T)\n",
    "error = 0\n",
    "cnt = 0\n",
    "for i in range(test_rating_matrix_centered.shape[0]):\n",
    "    for j in range(test_rating_matrix_centered.shape[1]):\n",
    "        if test_rating_matrix[i][j] != 0:\n",
    "            error += ((test_rating_matrix_centered[i][j] - pred_A_lf[i][j]) ** 2)\n",
    "            cnt += 1\n",
    "\n",
    "mse = np.sqrt(error/cnt)\n",
    "print(mse)"
   ]
  },
  {
   "cell_type": "code",
   "execution_count": 140,
   "metadata": {
    "scrolled": true
   },
   "outputs": [
    {
     "name": "stdout",
     "output_type": "stream",
     "text": [
      "148\n",
      "mod1 =  126.06200172072101\n",
      "mod2 =  38.55775205664647\n",
      "cnt =  1989.1080947441985\n",
      "Mse =  0.3525893587752081\n",
      "248\n",
      "mod1 =  4.149253411081398\n",
      "mod2 =  21.183068781226176\n",
      "cnt =  1892.147496386531\n",
      "Mse =  0.3438883809089196\n",
      "348\n",
      "mod1 =  1.0183009996014085\n",
      "mod2 =  11.58739500043155\n",
      "cnt =  1814.4805812460716\n",
      "Mse =  0.336756642589095\n",
      "448\n",
      "mod1 =  0.45970531210236343\n",
      "mod2 =  7.368390698431138\n",
      "cnt =  1765.5771183192471\n",
      "Mse =  0.33218755228778957\n",
      "548\n",
      "mod1 =  0.28046659156405107\n",
      "mod2 =  5.192641737097416\n",
      "cnt =  1733.8840632603774\n",
      "Mse =  0.32919257882548564\n",
      "21\r"
     ]
    },
    {
     "ename": "KeyboardInterrupt",
     "evalue": "",
     "output_type": "error",
     "traceback": [
      "\u001b[0;31m---------------------------------------------------------------------------\u001b[0m",
      "\u001b[0;31mKeyboardInterrupt\u001b[0m                         Traceback (most recent call last)",
      "\u001b[0;32m<ipython-input-140-5a719d659868>\u001b[0m in \u001b[0;36m<module>\u001b[0;34m\u001b[0m\n\u001b[1;32m     15\u001b[0m                 \u001b[0mApred_lf\u001b[0m \u001b[0;34m=\u001b[0m \u001b[0mQ\u001b[0m\u001b[0;34m.\u001b[0m\u001b[0mdot\u001b[0m\u001b[0;34m(\u001b[0m\u001b[0mP\u001b[0m\u001b[0;34m.\u001b[0m\u001b[0mT\u001b[0m\u001b[0;34m)\u001b[0m\u001b[0;34m\u001b[0m\u001b[0;34m\u001b[0m\u001b[0m\n\u001b[1;32m     16\u001b[0m                 \u001b[0meij\u001b[0m \u001b[0;34m=\u001b[0m \u001b[0mtrain_rating_matrix_centered\u001b[0m\u001b[0;34m[\u001b[0m\u001b[0mi\u001b[0m\u001b[0;34m]\u001b[0m\u001b[0;34m[\u001b[0m\u001b[0mj\u001b[0m\u001b[0;34m]\u001b[0m \u001b[0;34m-\u001b[0m \u001b[0mApred_lf\u001b[0m\u001b[0;34m[\u001b[0m\u001b[0mi\u001b[0m\u001b[0;34m]\u001b[0m\u001b[0;34m[\u001b[0m\u001b[0mj\u001b[0m\u001b[0;34m]\u001b[0m\u001b[0;34m\u001b[0m\u001b[0;34m\u001b[0m\u001b[0m\n\u001b[0;32m---> 17\u001b[0;31m                 \u001b[0mQ\u001b[0m\u001b[0;34m[\u001b[0m\u001b[0mi\u001b[0m\u001b[0;34m,\u001b[0m\u001b[0;34m:\u001b[0m\u001b[0;34m]\u001b[0m \u001b[0;34m=\u001b[0m \u001b[0mQ\u001b[0m\u001b[0;34m[\u001b[0m\u001b[0mi\u001b[0m\u001b[0;34m,\u001b[0m\u001b[0;34m:\u001b[0m\u001b[0;34m]\u001b[0m \u001b[0;34m+\u001b[0m \u001b[0mn\u001b[0m \u001b[0;34m*\u001b[0m \u001b[0;34m(\u001b[0m\u001b[0meij\u001b[0m \u001b[0;34m*\u001b[0m \u001b[0mP\u001b[0m\u001b[0;34m[\u001b[0m\u001b[0mj\u001b[0m\u001b[0;34m,\u001b[0m\u001b[0;34m:\u001b[0m\u001b[0;34m]\u001b[0m \u001b[0;34m-\u001b[0m \u001b[0mlambda1\u001b[0m \u001b[0;34m*\u001b[0m \u001b[0mQ\u001b[0m\u001b[0;34m[\u001b[0m\u001b[0mi\u001b[0m\u001b[0;34m,\u001b[0m\u001b[0;34m:\u001b[0m\u001b[0;34m]\u001b[0m\u001b[0;34m)\u001b[0m\u001b[0;34m\u001b[0m\u001b[0;34m\u001b[0m\u001b[0m\n\u001b[0m\u001b[1;32m     18\u001b[0m                 \u001b[0mP\u001b[0m\u001b[0;34m[\u001b[0m\u001b[0mj\u001b[0m\u001b[0;34m,\u001b[0m\u001b[0;34m:\u001b[0m\u001b[0;34m]\u001b[0m \u001b[0;34m=\u001b[0m \u001b[0mP\u001b[0m\u001b[0;34m[\u001b[0m\u001b[0mj\u001b[0m\u001b[0;34m,\u001b[0m\u001b[0;34m:\u001b[0m\u001b[0;34m]\u001b[0m \u001b[0;34m+\u001b[0m \u001b[0mn\u001b[0m \u001b[0;34m*\u001b[0m \u001b[0;34m(\u001b[0m\u001b[0meij\u001b[0m \u001b[0;34m*\u001b[0m \u001b[0mQ\u001b[0m\u001b[0;34m[\u001b[0m\u001b[0mi\u001b[0m\u001b[0;34m,\u001b[0m\u001b[0;34m:\u001b[0m\u001b[0;34m]\u001b[0m \u001b[0;34m-\u001b[0m \u001b[0mlambda1\u001b[0m \u001b[0;34m*\u001b[0m \u001b[0mP\u001b[0m\u001b[0;34m[\u001b[0m\u001b[0mj\u001b[0m\u001b[0;34m,\u001b[0m\u001b[0;34m:\u001b[0m\u001b[0;34m]\u001b[0m\u001b[0;34m)\u001b[0m\u001b[0;34m\u001b[0m\u001b[0;34m\u001b[0m\u001b[0m\n\u001b[1;32m     19\u001b[0m \u001b[0;34m\u001b[0m\u001b[0m\n",
      "\u001b[0;31mKeyboardInterrupt\u001b[0m: "
     ]
    }
   ],
   "source": [
    "Q_prev = 0\n",
    "P_prev = 0\n",
    "\n",
    "n = 10e-2\n",
    "lambda1 = 0.1\n",
    "loop = 0\n",
    "while mod(Q_prev - Q) >= 10e-3 or mod(P_prev - P) >= 10e-3:\n",
    "    Q_prev = np.copy(Q)\n",
    "    P_prev = np.copy(P)\n",
    "    \n",
    "    for i in range(train_rating_matrix.shape[0]):\n",
    "        print(i , end = \"\\r\")\n",
    "        for j in range(train_rating_matrix.shape[1]):\n",
    "            if train_rating_matrix[i][j] != 0:\n",
    "                Apred_lf = Q.dot(P.T)\n",
    "                eij = train_rating_matrix_centered[i][j] - Apred_lf[i][j]\n",
    "                Q[i,:] = Q[i,:] + n * (eij * P[j,:] - lambda1 * Q[i,:])\n",
    "                P[j,:] = P[j,:] + n * (eij * Q[i,:] - lambda1 * P[j,:])\n",
    "        \n",
    "#     q = -2 * ((A - Q.dot(P.T)).dot(P)) #+ (2 * lambda1 * Q)\n",
    "#     p = (-2 * (Q.T.dot((A - Q.dot(P.T)))) #+ (2 * lambda1 * P.T)).T\n",
    "    loop += 1\n",
    "    print(loop)\n",
    "    print(\"mod1 = \", mod(Q_prev - Q))\n",
    "    print(\"mod2 = \", mod(P_prev - P))\n",
    "    \n",
    "    pred_A_lf = Q.dot(P.T)\n",
    "    error = 0\n",
    "    cnt = 0\n",
    "    for i in range(train_rating_matrix_centered.shape[0]):\n",
    "        for j in range(train_rating_matrix_centered.shape[1]):\n",
    "            if train_rating_matrix[i][j] != 0:\n",
    "                error += ((train_rating_matrix_centered[i][j] - pred_A_lf[i][j]) ** 2)\n",
    "                cnt += 1\n",
    "    mse = np.sqrt(error/cnt)\n",
    "    print(\"cnt = \", error)\n",
    "    print(\"Mse = \", mse)\n",
    "    \n",
    "    \n",
    "    "
   ]
  },
  {
   "cell_type": "code",
   "execution_count": 141,
   "metadata": {},
   "outputs": [
    {
     "name": "stdout",
     "output_type": "stream",
     "text": [
      "cnt  =  4000\n",
      "1.0248614099669615\n",
      "cnt =  16000\n",
      "0.331000926214057\n"
     ]
    }
   ],
   "source": [
    "pred_A_lf = Q.dot(P.T)\n",
    "error = 0\n",
    "cnt = 0\n",
    "\n",
    "## For test\n",
    "for i in range(test_rating_matrix_centered.shape[0]):\n",
    "    for j in range(test_rating_matrix_centered.shape[1]):\n",
    "        if test_rating_matrix[i][j] != 0:\n",
    "            error += ((test_rating_matrix_centered[i][j] - pred_A_lf[i][j]) ** 2)\n",
    "            cnt += 1\n",
    "\n",
    "mse = np.sqrt(error/cnt)\n",
    "print(\"cnt  = \", cnt)\n",
    "print(mse)\n",
    "\n",
    "error = 0\n",
    "cnt = 0\n",
    "## for train\n",
    "for i in range(train_rating_matrix_centered.shape[0]):\n",
    "    for j in range(train_rating_matrix_centered.shape[1]):\n",
    "        if train_rating_matrix[i][j] != 0:\n",
    "            error += ((train_rating_matrix_centered[i][j] - pred_A_lf[i][j]) ** 2)\n",
    "            cnt += 1\n",
    "mse = np.sqrt(error/cnt)\n",
    "print(\"cnt = \", cnt)\n",
    "print(mse)"
   ]
  },
  {
   "cell_type": "code",
   "execution_count": null,
   "metadata": {},
   "outputs": [],
   "source": [
    "Q_prev = 0\n",
    "P_prev = 0\n",
    "\n",
    "n = 10e-3\n",
    "lambda1 = 10\n",
    "loop = 0\n",
    "while mod(Q_prev - Q) >= 10e-1 or mod(P_prev - P) >= 10e-1:\n",
    "    Q_prev = np.copy(Q)\n",
    "    P_prev = np.copy(P)\n",
    "    \n",
    "    for i in range(train_rating_matrix.shape[0]):\n",
    "        print(i , end = \"\\r\")\n",
    "        for j in range(train_rating_matrix.shape[1]):\n",
    "            if train_rating_matrix[i][j] != 0:\n",
    "                Apred_lf = Q.dot(P.T)\n",
    "                eij = train_rating_matrix_centered[i][j] - Apred_lf[i][j]\n",
    "                Q[i,:] = Q[i,:] + n * (eij * P[j,:] - lambda1 * Q[i,:])\n",
    "                #P[j,:] = P[j,:] + n * (eij * Q[i,:] - lambda1 * P[j,:])\n",
    "    \n",
    "    for i in range(train_rating_matrix.shape[0]):\n",
    "        print(i , end = \"\\r\")\n",
    "        for j in range(train_rating_matrix.shape[1]):\n",
    "            if train_rating_matrix[i][j] != 0:\n",
    "                Apred_lf = Q.dot(P.T)\n",
    "                eij = train_rating_matrix_centered[i][j] - Apred_lf[i][j]\n",
    "                #Q[i,:] = Q[i,:] + n * (eij * P[j,:] - lambda1 * Q[i,:])\n",
    "                P[j,:] = P[j,:] + n * (eij * Q[i,:] - lambda1 * P[j,:])\n",
    "    \n",
    "        \n",
    "\n",
    "    loop += 1\n",
    "    print(loop)\n",
    "    print(\"mod1 = \", mod(Q_prev - Q))\n",
    "    print(\"mod2 = \", mod(P_prev - P))\n",
    "    \n",
    "    pred_A_lf = Q.dot(P.T)\n",
    "    error = 0\n",
    "    cnt = 0\n",
    "    for i in range(train_rating_matrix_centered.shape[0]):\n",
    "        for j in range(train_rating_matrix_centered.shape[1]):\n",
    "            if train_rating_matrix[i][j] != 0:\n",
    "                error += ((train_rating_matrix_centered[i][j] - pred_A_lf[i][j]) ** 2)\n",
    "                cnt += 1\n",
    "    mse = np.sqrt(error/cnt)\n",
    "    print(\"error_train = \", error)\n",
    "    print(\"Mse_train = \", mse)\n",
    "    \n",
    "    error = 0\n",
    "    cnt = 0\n",
    "    for i in range(test_rating_matrix_centered.shape[0]):\n",
    "        for j in range(test_rating_matrix_centered.shape[1]):\n",
    "            if test_rating_matrix[i][j] != 0:\n",
    "                error += ((test_rating_matrix_centered[i][j] - pred_A_lf[i][j]) ** 2)\n",
    "                cnt += 1\n",
    "    mse = np.sqrt(error/cnt)\n",
    "    print(\"error_test= \", error)\n",
    "    print(\"Mse_test = \", mse)\n",
    "    \n",
    "    \n",
    "    "
   ]
  },
  {
   "cell_type": "code",
   "execution_count": null,
   "metadata": {},
   "outputs": [],
   "source": []
  },
  {
   "cell_type": "code",
   "execution_count": null,
   "metadata": {},
   "outputs": [],
   "source": []
  }
 ],
 "metadata": {
  "kernelspec": {
   "display_name": "Python 3",
   "language": "python",
   "name": "python3"
  },
  "language_info": {
   "codemirror_mode": {
    "name": "ipython",
    "version": 3
   },
   "file_extension": ".py",
   "mimetype": "text/x-python",
   "name": "python",
   "nbconvert_exporter": "python",
   "pygments_lexer": "ipython3",
   "version": "3.6.9"
  }
 },
 "nbformat": 4,
 "nbformat_minor": 2
}
