{
 "cells": [
  {
   "cell_type": "code",
   "execution_count": 1,
   "metadata": {},
   "outputs": [],
   "source": [
    "import numpy as np\n",
    "import pandas as pd\n",
    "import math\n",
    "import copy"
   ]
  },
  {
   "cell_type": "code",
   "execution_count": 2,
   "metadata": {},
   "outputs": [
    {
     "name": "stderr",
     "output_type": "stream",
     "text": [
      "/home/vedant/anaconda3/lib/python3.6/site-packages/ipykernel_launcher.py:2: ParserWarning: Falling back to the 'python' engine because the 'c' engine does not support regex separators (separators > 1 char and different from '\\s+' are interpreted as regex); you can avoid this warning by specifying engine='python'.\n",
      "  \n"
     ]
    }
   ],
   "source": [
    "rating_df_columns = [\"UserId\", \"MovieId\", \"Rating\", \"TimeStamp\"]\n",
    "rating_df = pd.read_table(\"ml-1m/ratings.dat\", sep=\"::\", names=rating_df_columns)"
   ]
  },
  {
   "cell_type": "code",
   "execution_count": 3,
   "metadata": {},
   "outputs": [],
   "source": [
    "rating_df.drop(index =range(100000,1000209), inplace=True)"
   ]
  },
  {
   "cell_type": "code",
   "execution_count": 4,
   "metadata": {},
   "outputs": [],
   "source": [
    "rating_matrix = np.asarray(rating_df.pivot(index = \"UserId\", columns = \"MovieId\", values = \"Rating\").fillna(0))"
   ]
  },
  {
   "cell_type": "code",
   "execution_count": 5,
   "metadata": {},
   "outputs": [],
   "source": [
    "### Mean center\n",
    "\n",
    "def mean_center(A):\n",
    "    mean_centered_A = np.copy(A)\n",
    "    for row in range(A.shape[0]):\n",
    "        ratings_sum = A[row].sum()\n",
    "        movies_rated = (A[row] > 0).sum()\n",
    "        mean = ratings_sum/movies_rated\n",
    "        for i in A[row].nonzero():\n",
    "            mean_centered_A[row][i] -= mean\n",
    "    return mean_centered_A"
   ]
  },
  {
   "cell_type": "code",
   "execution_count": 6,
   "metadata": {},
   "outputs": [],
   "source": [
    "rating_matrix_centered = mean_center(rating_matrix)"
   ]
  },
  {
   "cell_type": "code",
   "execution_count": 7,
   "metadata": {},
   "outputs": [],
   "source": [
    "### SVD\n",
    "# A = np.asarray([[3,1,1],[-1,3,1]])"
   ]
  },
  {
   "cell_type": "code",
   "execution_count": 8,
   "metadata": {},
   "outputs": [],
   "source": [
    "A = rating_matrix_centered"
   ]
  },
  {
   "cell_type": "code",
   "execution_count": 9,
   "metadata": {},
   "outputs": [],
   "source": [
    "AAt = np.matmul(A, A.T)\n",
    "AtA = np.matmul(A.T, A)"
   ]
  },
  {
   "cell_type": "code",
   "execution_count": 10,
   "metadata": {},
   "outputs": [],
   "source": [
    "eigenvalue_AAt, eigenvector_AAt = np.linalg.eig(AAt)\n",
    "eigenvalue_AtA, eigenvector_AtA = np.linalg.eig(AtA)"
   ]
  },
  {
   "cell_type": "code",
   "execution_count": 11,
   "metadata": {},
   "outputs": [],
   "source": [
    "argsort_eigenval_AAt = np.argsort(-eigenvalue_AAt)\n",
    "argsort_eigenval_AtA = np.argsort(-eigenvalue_AtA)"
   ]
  },
  {
   "cell_type": "code",
   "execution_count": 12,
   "metadata": {},
   "outputs": [],
   "source": [
    "U = np.zeros(eigenvector_AAt.shape)\n",
    "sigma1 = np.sqrt(np.sort(eigenvalue_AAt))[::-1]\n",
    "# for i,j in enumerate(argsort_eigenval_AAt):\n",
    "#     U[:,i] = eigenvector_AAt[:,j]"
   ]
  },
  {
   "cell_type": "code",
   "execution_count": 13,
   "metadata": {},
   "outputs": [
    {
     "name": "stderr",
     "output_type": "stream",
     "text": [
      "/home/vedant/anaconda3/lib/python3.6/site-packages/ipykernel_launcher.py:4: ComplexWarning: Casting complex values to real discards the imaginary part\n",
      "  after removing the cwd from sys.path.\n"
     ]
    }
   ],
   "source": [
    "V = np.zeros(eigenvector_AtA.shape)\n",
    "sigma2 = np.sqrt(np.sort(eigenvalue_AtA))[::-1]\n",
    "for i,j in enumerate(argsort_eigenval_AtA):\n",
    "    V[:,i] = eigenvector_AtA[:,j]"
   ]
  },
  {
   "cell_type": "code",
   "execution_count": 14,
   "metadata": {},
   "outputs": [],
   "source": [
    "sigma = np.zeros(A.shape)\n",
    "if sigma1.shape[0] < sigma2.shape[0]:\n",
    "    sigma[:, :A.shape[0]] = np.diag(sigma1)\n",
    "else:\n",
    "    sigma[:A.shape[1], :] = np.diag(sigma2)"
   ]
  },
  {
   "cell_type": "code",
   "execution_count": 15,
   "metadata": {},
   "outputs": [],
   "source": [
    "for i in range(U.shape[1]):\n",
    "    U[:,i] = (A.dot(V[:,i]))/sigma[i][i]"
   ]
  },
  {
   "cell_type": "code",
   "execution_count": 16,
   "metadata": {},
   "outputs": [],
   "source": [
    "n_component = 10\n",
    "sigma_reduced = sigma[:,:]\n",
    "V_reduced = V[:,:]\n",
    "A_pred = U.dot(sigma_reduced.dot(V_reduced.T))\n"
   ]
  },
  {
   "cell_type": "code",
   "execution_count": 17,
   "metadata": {},
   "outputs": [],
   "source": [
    "# u,s,vh = np.linalg.svd(A)\n",
    "# S = np.zeros(A.shape)\n",
    "# S[:A.shape[0], :A.shape[0]] = np.diag(s)\n",
    "# Apred_svd = u.dot(S.dot(Vh))\n",
    "# S = S[:,:]\n",
    "# Vh = vh[:,:]"
   ]
  },
  {
   "cell_type": "code",
   "execution_count": 19,
   "metadata": {},
   "outputs": [
    {
     "name": "stdout",
     "output_type": "stream",
     "text": [
      "6.022876915127478e-14\n"
     ]
    }
   ],
   "source": [
    "error = 0\n",
    "cnt = 0\n",
    "for i in range(rating_matrix_centered.shape[0]):\n",
    "    for j in range(rating_matrix_centered.shape[1]):\n",
    "        if rating_matrix[i][j] != 0:\n",
    "            error += ((rating_matrix_centered[i][j] - A_pred[i][j]) ** 2)\n",
    "            cnt += 1\n",
    "mse = np.sqrt(error/cnt)\n",
    "print(mse)"
   ]
  },
  {
   "cell_type": "code",
   "execution_count": null,
   "metadata": {},
   "outputs": [],
   "source": []
  }
 ],
 "metadata": {
  "kernelspec": {
   "display_name": "Python 3",
   "language": "python",
   "name": "python3"
  },
  "language_info": {
   "codemirror_mode": {
    "name": "ipython",
    "version": 3
   },
   "file_extension": ".py",
   "mimetype": "text/x-python",
   "name": "python",
   "nbconvert_exporter": "python",
   "pygments_lexer": "ipython3",
   "version": "3.6.9"
  }
 },
 "nbformat": 4,
 "nbformat_minor": 2
}
