{
 "cells": [
  {
   "cell_type": "code",
   "execution_count": 3,
   "metadata": {},
   "outputs": [],
   "source": [
    "import numpy as np\n",
    "import pandas as pd\n",
    "import math\n",
    "import copy"
   ]
  },
  {
   "cell_type": "code",
   "execution_count": 4,
   "metadata": {},
   "outputs": [
    {
     "name": "stderr",
     "output_type": "stream",
     "text": [
      "/home/vedant/anaconda3/lib/python3.6/site-packages/ipykernel_launcher.py:2: ParserWarning: Falling back to the 'python' engine because the 'c' engine does not support regex separators (separators > 1 char and different from '\\s+' are interpreted as regex); you can avoid this warning by specifying engine='python'.\n",
      "  \n"
     ]
    }
   ],
   "source": [
    "rating_df_columns = [\"UserId\", \"MovieId\", \"Rating\", \"TimeStamp\"]\n",
    "rating_df = pd.read_table(\"ml-1m/ratings.dat\", sep=\"::\", names=rating_df_columns)"
   ]
  },
  {
   "cell_type": "code",
   "execution_count": 5,
   "metadata": {},
   "outputs": [],
   "source": [
    "rating_df.drop(index =range(100000,1000209), inplace=True)"
   ]
  },
  {
   "cell_type": "code",
   "execution_count": 6,
   "metadata": {},
   "outputs": [],
   "source": [
    "rating_matrix = np.asarray(rating_df.pivot(index = \"UserId\", columns = \"MovieId\", values = \"Rating\").fillna(0))"
   ]
  },
  {
   "cell_type": "code",
   "execution_count": 7,
   "metadata": {},
   "outputs": [],
   "source": [
    "### Mean center\n",
    "\n",
    "def mean_center(A):\n",
    "    mean_centered_A = np.copy(A)\n",
    "    for row in range(A.shape[0]):\n",
    "        ratings_sum = A[row].sum()\n",
    "        movies_rated = (A[row] > 0).sum()\n",
    "        mean = ratings_sum/movies_rated\n",
    "        for i in A[row].nonzero():\n",
    "            mean_centered_A[row][i] -= mean\n",
    "    return mean_centered_A"
   ]
  },
  {
   "cell_type": "code",
   "execution_count": 8,
   "metadata": {},
   "outputs": [],
   "source": [
    "rating_matrix_centered = mean_center(rating_matrix)"
   ]
  },
  {
   "cell_type": "code",
   "execution_count": 9,
   "metadata": {},
   "outputs": [],
   "source": [
    "### SVD\n",
    "# A = np.asarray([[3,1,1],[-1,3,1]])"
   ]
  },
  {
   "cell_type": "code",
   "execution_count": 38,
   "metadata": {},
   "outputs": [],
   "source": [
    "A = rating_matrix"
   ]
  },
  {
   "cell_type": "code",
   "execution_count": 39,
   "metadata": {},
   "outputs": [],
   "source": [
    "def svd(A):\n",
    "    \n",
    "    transpose_flag = 0\n",
    "    if A.shape[0] > A.shape[1]:\n",
    "        transpose_flag = 1\n",
    "        A = A.T\n",
    "    \n",
    "    AAt = np.matmul(A, A.T)\n",
    "    AtA = np.matmul(A.T, A)\n",
    "    \n",
    "    eigenvalue_AAt, eigenvector_AAt = np.linalg.eig(AAt)\n",
    "    eigenvalue_AtA, eigenvector_AtA = np.linalg.eig(AtA)\n",
    "    \n",
    "    eigenvector_AAt_transpose = eigenvector_AAt.T\n",
    "    eigenvector_AtA_transpose = eigenvector_AtA.T\n",
    "    \n",
    "    eigenvector_AAt_transpose[eigenvalue_AAt < 10e-2] = 0\n",
    "    eigenvector_AtA_transpose[eigenvalue_AtA < 10e-2] = 0\n",
    "    eigenvalue_AAt[eigenvalue_AAt < 10e-2] = 0\n",
    "    eigenvalue_AtA[eigenvalue_AtA < 10e-2] = 0\n",
    "    \n",
    "    eigenvalue_AAt = np.sqrt(eigenvalue_AAt.real)\n",
    "    eigenvalue_AtA = np.sqrt(eigenvalue_AtA.real)\n",
    "    \n",
    "    eigenvector_AAt = eigenvector_AAt.real\n",
    "    eigenvector_AtA = eigenvector_AtA.real\n",
    "    \n",
    "    argsort_eigenval_AAt = np.argsort(-eigenvalue_AAt)\n",
    "    argsort_eigenval_AtA = np.argsort(-eigenvalue_AtA)\n",
    "    \n",
    "    U = np.zeros(eigenvector_AAt.shape)\n",
    "    sigma1 = np.sort(eigenvalue_AAt)[::-1]\n",
    "    \n",
    "    V = np.zeros(eigenvector_AtA.shape)\n",
    "    sigma2 = (np.sort(eigenvalue_AtA))[::-1]\n",
    "    for i,j in enumerate(argsort_eigenval_AtA):\n",
    "        V[:,i] = eigenvector_AtA[:,j]\n",
    "        \n",
    "    sigma = np.zeros(A.shape)\n",
    "    sigma[:, :A.shape[0]] = np.diag(sigma1)\n",
    "        \n",
    "    for i in range(U.shape[1]):\n",
    "        if sigma1[i] != 0:\n",
    "            U[:,i] = (A.dot(V[:,i]))/sigma1[i]\n",
    "        else:\n",
    "            U[:,i] = 0\n",
    "        \n",
    "    if transpose_flag == 0:\n",
    "        return U, sigma, V.T\n",
    "    else:\n",
    "        return V, sigma.T, U.T"
   ]
  },
  {
   "cell_type": "code",
   "execution_count": 40,
   "metadata": {},
   "outputs": [],
   "source": [
    "U, sigma, Vt = svd(A)\n",
    "A_pred_new  = U.dot(sigma.dot(Vt))"
   ]
  },
  {
   "cell_type": "code",
   "execution_count": 41,
   "metadata": {},
   "outputs": [],
   "source": [
    "n_component = 10\n",
    "sigma_reduced = sigma[:,:]\n",
    "V_reduced = V[:,:]\n",
    "A_pred = U.dot(sigma_reduced.dot(V_reduced.T))\n"
   ]
  },
  {
   "cell_type": "code",
   "execution_count": 42,
   "metadata": {},
   "outputs": [],
   "source": [
    "# u,s,vh = np.linalg.svd(A)\n",
    "# S = np.zeros(A.shape)\n",
    "# S[:A.shape[0], :A.shape[0]] = np.diag(s)\n",
    "# Apred_svd = u.dot(S.dot(Vh))\n",
    "# S = S[:,:]\n",
    "# Vh = vh[:,:]"
   ]
  },
  {
   "cell_type": "code",
   "execution_count": 43,
   "metadata": {},
   "outputs": [],
   "source": [
    "mse_new = (((A_pred_new - A) ** 2).sum()/(A.shape[0]* A.shape[1]))"
   ]
  },
  {
   "cell_type": "code",
   "execution_count": 44,
   "metadata": {},
   "outputs": [
    {
     "data": {
      "text/plain": [
       "1.541649329050951e-25"
      ]
     },
     "execution_count": 44,
     "metadata": {},
     "output_type": "execute_result"
    }
   ],
   "source": [
    "print(mse_new)"
   ]
  }
 ],
 "metadata": {
  "kernelspec": {
   "display_name": "Python 3",
   "language": "python",
   "name": "python3"
  },
  "language_info": {
   "codemirror_mode": {
    "name": "ipython",
    "version": 3
   },
   "file_extension": ".py",
   "mimetype": "text/x-python",
   "name": "python",
   "nbconvert_exporter": "python",
   "pygments_lexer": "ipython3",
   "version": "3.6.9"
  }
 },
 "nbformat": 4,
 "nbformat_minor": 2
}
