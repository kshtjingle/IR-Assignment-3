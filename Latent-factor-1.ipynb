{
 "cells": [
  {
   "cell_type": "code",
   "execution_count": 5,
   "metadata": {},
   "outputs": [],
   "source": [
    "import numpy as np\n",
    "import pandas as pd"
   ]
  },
  {
   "cell_type": "code",
   "execution_count": 6,
   "metadata": {},
   "outputs": [],
   "source": [
    "def mean_center(train_rating_matrix, test_rating_matrix):\n",
    "    assert train_rating_matrix.shape == test_rating_matrix.shape\n",
    "    \n",
    "    A = train_rating_matrix + test_rating_matrix\n",
    "    \n",
    "    train_rating_matrix_centered = np.zeros(A.shape)\n",
    "    test_rating_matrix_centered = np.zeros(A.shape)\n",
    "    \n",
    "    for row in range(A.shape[0]):\n",
    "        ratings_sum = A[row].sum()\n",
    "        movies_rated = (A[row] > 0).sum()\n",
    "        mean = ratings_sum/movies_rated\n",
    "        for i in train_rating_matrix[row].nonzero():\n",
    "            train_rating_matrix_centered[row][i] = A[row][i] - mean\n",
    "        for j in test_rating_matrix[row].nonzero():\n",
    "            test_rating_matrix_centered[row][j] = A[row][j] - mean\n",
    "    return train_rating_matrix_centered, test_rating_matrix_centered"
   ]
  },
  {
   "cell_type": "code",
   "execution_count": 7,
   "metadata": {},
   "outputs": [],
   "source": [
    "def train_test_split(train_fraction):\n",
    "    rating_df_columns = [\"UserId\", \"MovieId\", \"Rating\", \"TimeStamp\"]\n",
    "    rating_df = pd.read_table(\"ml-1m/ratings.dat\", sep=\"::\", names=rating_df_columns)\n",
    "\n",
    "    rating_df.drop(index= range(20000,1000209), inplace=True)\n",
    "\n",
    "    train_rating_df = rating_df.sample(frac = train_fraction, random_state=201)\n",
    "    test_rating_df = rating_df.drop(train_rating_df.index)\n",
    "\n",
    "    train_users = max(train_rating_df[\"UserId\"])\n",
    "    train_movies = max(train_rating_df[\"MovieId\"])\n",
    "\n",
    "    test_users = max(test_rating_df[\"UserId\"])\n",
    "    test_movies = max(test_rating_df[\"MovieId\"])\n",
    "\n",
    "    assert train_users == test_users\n",
    "    assert train_movies == test_movies\n",
    "\n",
    "    train_rating_df = train_rating_df.pivot(index = 'UserId', columns='MovieId', values='Rating').fillna(0)\n",
    "    test_rating_df = test_rating_df.pivot(index = 'UserId', columns='MovieId', values='Rating').fillna(0)\n",
    "\n",
    "    zero_mat = np.zeros(train_users)\n",
    "    for i in range(1, train_movies + 1):\n",
    "        print(i, end = \"\\r\")\n",
    "        if i not in train_rating_df.columns:   \n",
    "            zero_df = pd.DataFrame(zero_mat,columns=[i],index=range(1,train_users +1))\n",
    "            train_rating_df = train_rating_df.join(zero_df)\n",
    "        if i not in test_rating_df.columns:\n",
    "            zero_df = pd.DataFrame(zero_mat,columns=[i],index=range(1, train_users +1))\n",
    "            test_rating_df = test_rating_df.join(zero_df)\n",
    "\n",
    "    train_rating_df = train_rating_df[range(1, train_movies + 1)]\n",
    "    test_rating_df = test_rating_df[range(1, test_movies + 1)]\n",
    "\n",
    "    train_rating_matrix = np.asarray(train_rating_df)\n",
    "    test_rating_matrix = np.asarray(test_rating_df)\n",
    "\n",
    "    assert train_rating_matrix.shape == test_rating_matrix.shape\n",
    "\n",
    "    return train_rating_matrix, test_rating_matrix"
   ]
  },
  {
   "cell_type": "code",
   "execution_count": 8,
   "metadata": {},
   "outputs": [
    {
     "name": "stderr",
     "output_type": "stream",
     "text": [
      "/home/vedant/anaconda3/lib/python3.6/site-packages/ipykernel_launcher.py:3: ParserWarning: Falling back to the 'python' engine because the 'c' engine does not support regex separators (separators > 1 char and different from '\\s+' are interpreted as regex); you can avoid this warning by specifying engine='python'.\n",
      "  This is separate from the ipykernel package so we can avoid doing imports until\n"
     ]
    },
    {
     "name": "stdout",
     "output_type": "stream",
     "text": [
      "3952\r"
     ]
    }
   ],
   "source": [
    "train_rating_matrix, test_rating_matrix = train_test_split(0.8)\n",
    "train_rating_matrix_centered , test_rating_matrix_centered = mean_center(train_rating_matrix, test_rating_matrix)"
   ]
  },
  {
   "cell_type": "code",
   "execution_count": 3,
   "metadata": {},
   "outputs": [],
   "source": [
    "def forbenius_norm(A):\n",
    "    return (A ** 2).sum()"
   ]
  },
  {
   "cell_type": "code",
   "execution_count": 4,
   "metadata": {},
   "outputs": [
    {
     "ename": "NameError",
     "evalue": "name 'np' is not defined",
     "output_type": "error",
     "traceback": [
      "\u001b[0;31m---------------------------------------------------------------------------\u001b[0m",
      "\u001b[0;31mNameError\u001b[0m                                 Traceback (most recent call last)",
      "\u001b[0;32m<ipython-input-4-68f6c6425850>\u001b[0m in \u001b[0;36m<module>\u001b[0;34m\u001b[0m\n\u001b[1;32m      4\u001b[0m \u001b[0;31m# P = (sigma.dot(V.T)).T\u001b[0m\u001b[0;34m\u001b[0m\u001b[0;34m\u001b[0m\u001b[0;34m\u001b[0m\u001b[0m\n\u001b[1;32m      5\u001b[0m \u001b[0mk\u001b[0m \u001b[0;34m=\u001b[0m \u001b[0;36m10\u001b[0m\u001b[0;34m\u001b[0m\u001b[0;34m\u001b[0m\u001b[0m\n\u001b[0;32m----> 6\u001b[0;31m \u001b[0mQ\u001b[0m \u001b[0;34m=\u001b[0m \u001b[0mnp\u001b[0m\u001b[0;34m.\u001b[0m\u001b[0mrandom\u001b[0m\u001b[0;34m.\u001b[0m\u001b[0mnormal\u001b[0m\u001b[0;34m(\u001b[0m\u001b[0msize\u001b[0m \u001b[0;34m=\u001b[0m \u001b[0;34m(\u001b[0m\u001b[0mA\u001b[0m\u001b[0;34m.\u001b[0m\u001b[0mshape\u001b[0m\u001b[0;34m[\u001b[0m\u001b[0;36m0\u001b[0m\u001b[0;34m]\u001b[0m\u001b[0;34m,\u001b[0m \u001b[0mk\u001b[0m\u001b[0;34m)\u001b[0m\u001b[0;34m)\u001b[0m\u001b[0;34m\u001b[0m\u001b[0;34m\u001b[0m\u001b[0m\n\u001b[0m\u001b[1;32m      7\u001b[0m \u001b[0mP\u001b[0m \u001b[0;34m=\u001b[0m \u001b[0mnp\u001b[0m\u001b[0;34m.\u001b[0m\u001b[0mrandom\u001b[0m\u001b[0;34m.\u001b[0m\u001b[0mnormal\u001b[0m\u001b[0;34m(\u001b[0m\u001b[0msize\u001b[0m \u001b[0;34m=\u001b[0m \u001b[0;34m(\u001b[0m\u001b[0mA\u001b[0m\u001b[0;34m.\u001b[0m\u001b[0mshape\u001b[0m\u001b[0;34m[\u001b[0m\u001b[0;36m1\u001b[0m\u001b[0;34m]\u001b[0m\u001b[0;34m,\u001b[0m\u001b[0mk\u001b[0m \u001b[0;34m)\u001b[0m\u001b[0;34m)\u001b[0m\u001b[0;34m\u001b[0m\u001b[0;34m\u001b[0m\u001b[0m\n",
      "\u001b[0;31mNameError\u001b[0m: name 'np' is not defined"
     ]
    }
   ],
   "source": [
    "#### Latent factors\n",
    "\n",
    "# Q = np.copy(U)\n",
    "# P = (sigma.dot(V.T)).T\n",
    "k = 10\n",
    "Q = np.random.normal(size = (A.shape[0], k))\n",
    "P = np.random.normal(size = (A.shape[1],k ))"
   ]
  },
  {
   "cell_type": "code",
   "execution_count": null,
   "metadata": {},
   "outputs": [],
   "source": [
    "pred_A_lf = Q.dot(P.T)\n",
    "error = 0\n",
    "cnt = 0\n",
    "for i in range(test_rating_matrix_centered.shape[0]):\n",
    "    for j in range(test_rating_matrix_centered.shape[1]):\n",
    "        if test_rating_matrix[i][j] != 0:\n",
    "            error += ((test_rating_matrix_centered[i][j] - pred_A_lf[i][j]) ** 2)\n",
    "            cnt += 1\n",
    "\n",
    "mse = np.sqrt(error/cnt)\n",
    "print(mse)"
   ]
  },
  {
   "cell_type": "code",
   "execution_count": null,
   "metadata": {},
   "outputs": [],
   "source": [
    "P_prev = 0\n",
    "q = 0\n",
    "Q_prev = 0\n",
    "p = 0\n",
    "n = 10e-5\n",
    "lambda1 = 10e-6\n",
    "loop = 0\n",
    "while mod(Q_prev - Q) >= 10e-7 or mod(P_prev - P) >= 10e-7:\n",
    "    Q_prev = np.copy(Q)\n",
    "    P_prev = np.copy(P)\n",
    "    \n",
    "#     for i in range(Q.shape[0]):\n",
    "#         for k in range(Q.shape[1]):\n",
    "#             for x in range(A.shape[1]):\n",
    "#                 if(train_rating_matrix[i][x] != 0):\n",
    "#                     q[i,k] = -2 * (train_rating_matrix_centered[i][x] - Q[i].dot(P[x,:])) + 2*lambda1*Q[i,k]\n",
    "#     for x in range(P.shape[0]):\n",
    "#         for k in range(P.shape[1]):\n",
    "#             for i in range(A.shape[0]):\n",
    "#                 if(train_rating_matrix[i][x] != 0):\n",
    "#                     p[x,k] = -2 * (train_rating_matrix_centered[i][k])\n",
    "    \n",
    "    q = -2 * ((A - Q.dot(P.T)).dot(P))\n",
    "    p = -2 * (Q.T.dot((A - Q.dot(P.T)))).T\n",
    "         \n",
    "    Q = Q - n*q\n",
    "    P = P - n*p\n",
    "    loop += 1\n",
    "    print(loop, end = \"\\r\")\n",
    "    #print(\"mod1 = \", forbenius_norm(Q_prev - Q))\n",
    "    #print(\"mod2 = \", forbenius_norm(P_prev - P), end = '\\r')\n",
    "    \n",
    "    "
   ]
  },
  {
   "cell_type": "code",
   "execution_count": null,
   "metadata": {},
   "outputs": [],
   "source": [
    "Q_prev = 0\n",
    "q = 0\n",
    "p_prev = 0\n",
    "p = 0\n",
    "n = 10e-4\n",
    "lambda1 = 0.01\n",
    "loop = 0\n",
    "while mod(Q_prev - Q) >= 10e-6 or mod(P_prev - P) >= 10e-6:\n",
    "    Q_prev = np.copy(Q)\n",
    "    P_prev = np.copy(P)\n",
    "    \n",
    "    for i in range(train_rating_matrix.shape[0]):\n",
    "        print(i , end = \"\\r\")\n",
    "        for j in range(train_rating_matrix.shape[1]):\n",
    "            if train_rating_matrix[i][j] != 0:\n",
    "                Apred_lf = Q.dot(P.T)\n",
    "                eij = train_rating_matrix_centered[i][j] - Apred_lf[i][j]\n",
    "                Q[i,:] = Q[i,:] + n * (eij * P[j,:] - lambda1 * Q[i,:])\n",
    "                P[j,:] = P[j,:] + n * (eij * Q[i,:] - lambda1 * P[j,:])\n",
    "        \n",
    "#     q = -2 * ((A - Q.dot(P.T)).dot(P)) #+ (2 * lambda1 * Q)\n",
    "#     p = (-2 * (Q.T.dot((A - Q.dot(P.T)))) #+ (2 * lambda1 * P.T)).T\n",
    "    loop += 1\n",
    "    print(loop)\n",
    "    \n",
    "    "
   ]
  },
  {
   "cell_type": "code",
   "execution_count": null,
   "metadata": {},
   "outputs": [],
   "source": [
    "pred_A_lf = Q.dot(P.T)\n",
    "error = 0\n",
    "cnt = 0\n",
    "\n",
    "## For test\n",
    "for i in range(test_rating_matrix_centered.shape[0]):\n",
    "    for j in range(test_rating_matrix_centered.shape[1]):\n",
    "        if test_rating_matrix[i][j] != 0:\n",
    "            error += ((test_rating_matrix_centered[i][j] - pred_A_lf[i][j]) ** 2)\n",
    "            cnt += 1\n",
    "\n",
    "mse = np.sqrt(error/cnt)\n",
    "print(\"cnt  = \", cnt)\n",
    "print(mse)\n",
    "\n",
    "error = 0\n",
    "cnt = 0\n",
    "## for train\n",
    "for i in range(train_rating_matrix_centered.shape[0]):\n",
    "    for j in range(train_rating_matrix_centered.shape[1]):\n",
    "        if train_rating_matrix[i][j] != 0 and np.isinf(pred_A_lf[i][j]) == False:\n",
    "            error += ((train_rating_matrix_centered[i][j] - pred_A_lf[i][j]) ** 2)\n",
    "            cnt += 1\n",
    "mse = np.sqrt(error/cnt)\n",
    "print(\"cnt = \", cnt)\n",
    "print(mse)"
   ]
  },
  {
   "cell_type": "code",
   "execution_count": null,
   "metadata": {},
   "outputs": [],
   "source": [
    "error = 0\n",
    "cnt = 0\n",
    "for i in range(test_rating_matrix_centered.shape[0]):\n",
    "    for j in range(test_rating_matrix_centered.shape[1]):\n",
    "        if test_rating_matrix[i][j] != 0:\n",
    "            error += ((test_rating_matrix_centered[i][j] - Apred[i][j]) ** 2)\n",
    "            cnt += 1\n",
    "\n",
    "mse = np.sqrt(error/cnt)\n",
    "print(mse)"
   ]
  }
 ],
 "metadata": {
  "kernelspec": {
   "display_name": "Python 3",
   "language": "python",
   "name": "python3"
  },
  "language_info": {
   "codemirror_mode": {
    "name": "ipython",
    "version": 3
   },
   "file_extension": ".py",
   "mimetype": "text/x-python",
   "name": "python",
   "nbconvert_exporter": "python",
   "pygments_lexer": "ipython3",
   "version": "3.6.9"
  }
 },
 "nbformat": 4,
 "nbformat_minor": 2
}
