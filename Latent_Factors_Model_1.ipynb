{
 "cells": [
  {
   "cell_type": "code",
   "execution_count": 1,
   "metadata": {},
   "outputs": [],
   "source": [
    "import numpy as np\n",
    "import pandas as pd"
   ]
  },
  {
   "cell_type": "code",
   "execution_count": 2,
   "metadata": {},
   "outputs": [],
   "source": [
    "def train_test_split(train_fraction):\n",
    "    rating_df_columns = [\"UserId\", \"MovieId\", \"Rating\", \"TimeStamp\"]\n",
    "    rating_df = pd.read_table(\"ml-1m/ratings.dat\", sep=\"::\", names=rating_df_columns)\n",
    "\n",
    "    rating_df.drop(index= range(20000,1000209), inplace=True)\n",
    "\n",
    "    train_rating_df = rating_df.sample(frac = train_fraction, random_state=201)\n",
    "    test_rating_df = rating_df.drop(train_rating_df.index)\n",
    "\n",
    "    train_users = max(train_rating_df[\"UserId\"])\n",
    "    train_movies = max(train_rating_df[\"MovieId\"])\n",
    "\n",
    "    test_users = max(test_rating_df[\"UserId\"])\n",
    "    test_movies = max(test_rating_df[\"MovieId\"])\n",
    "\n",
    "    assert train_users == test_users\n",
    "    users = train_users\n",
    "    movies = max(train_movies, test_movies)\n",
    "\n",
    "    train_rating_df = train_rating_df.pivot(index = 'UserId', columns='MovieId', values='Rating').fillna(0)\n",
    "    test_rating_df = test_rating_df.pivot(index = 'UserId', columns='MovieId', values='Rating').fillna(0)\n",
    "\n",
    "    zero_mat = np.zeros(train_users)\n",
    "    for i in range(1, train_movies + 1):\n",
    "        print(i, end = \"\\r\")\n",
    "        if i not in train_rating_df.columns:   \n",
    "            zero_df = pd.DataFrame(zero_mat,columns=[i],index=range(1, users + 1))\n",
    "            train_rating_df = train_rating_df.join(zero_df)\n",
    "        if i not in test_rating_df.columns:\n",
    "            zero_df = pd.DataFrame(zero_mat,columns=[i],index=range(1, users + 1))\n",
    "            test_rating_df = test_rating_df.join(zero_df)\n",
    "\n",
    "    train_rating_df = train_rating_df[range(1, movies + 1)]\n",
    "    test_rating_df = test_rating_df[range(1, movies + 1)]\n",
    "\n",
    "    train_rating_matrix = np.asarray(train_rating_df)\n",
    "    test_rating_matrix = np.asarray(test_rating_df)\n",
    "\n",
    "    assert train_rating_matrix.shape == test_rating_matrix.shape\n",
    "\n",
    "    return train_rating_matrix, test_rating_matrix"
   ]
  },
  {
   "cell_type": "code",
   "execution_count": 3,
   "metadata": {},
   "outputs": [
    {
     "name": "stderr",
     "output_type": "stream",
     "text": [
      "/home/vedant/anaconda3/lib/python3.6/site-packages/ipykernel_launcher.py:3: ParserWarning: Falling back to the 'python' engine because the 'c' engine does not support regex separators (separators > 1 char and different from '\\s+' are interpreted as regex); you can avoid this warning by specifying engine='python'.\n",
      "  This is separate from the ipykernel package so we can avoid doing imports until\n"
     ]
    },
    {
     "name": "stdout",
     "output_type": "stream",
     "text": [
      "3952\r"
     ]
    }
   ],
   "source": [
    "train_rating_matrix, test_rating_matrix = train_test_split(0.8)"
   ]
  },
  {
   "cell_type": "code",
   "execution_count": 4,
   "metadata": {},
   "outputs": [],
   "source": [
    "def mean_center(train_rating_matrix, test_rating_matrix):\n",
    "    assert train_rating_matrix.shape == test_rating_matrix.shape\n",
    "    A = train_rating_matrix + test_rating_matrix\n",
    "    \n",
    "    train_rating_matrix_centered = np.zeros(A.shape)\n",
    "    test_rating_matrix_centered = np.zeros(A.shape)\n",
    "    \n",
    "    for row in range(A.shape[0]):\n",
    "        ratings_sum = A[row].sum()\n",
    "        movies_rated = (A[row] > 0).sum()\n",
    "        mean = ratings_sum/movies_rated\n",
    "        for i in train_rating_matrix[row].nonzero():\n",
    "            train_rating_matrix_centered[row][i] = A[row][i] - mean\n",
    "        for j in test_rating_matrix[row].nonzero():\n",
    "            test_rating_matrix_centered[row][j] = A[row][j] - mean\n",
    "    return train_rating_matrix_centered, test_rating_matrix_centered"
   ]
  },
  {
   "cell_type": "code",
   "execution_count": 5,
   "metadata": {},
   "outputs": [],
   "source": [
    "train_rating_matrix_centered , test_rating_matrix_centered = mean_center(train_rating_matrix, test_rating_matrix)"
   ]
  },
  {
   "cell_type": "code",
   "execution_count": 6,
   "metadata": {},
   "outputs": [],
   "source": [
    "def forbenius_norm(A):\n",
    "    return (A **2).sum()"
   ]
  },
  {
   "cell_type": "code",
   "execution_count": 7,
   "metadata": {},
   "outputs": [],
   "source": [
    "u,s,vh = np.linalg.svd(train_rating_matrix_centered)\n",
    "sig = np.zeros(train_rating_matrix.shape)\n",
    "sig[:s.shape[0], : s.shape[0]] = np.diag(s)"
   ]
  },
  {
   "cell_type": "code",
   "execution_count": 8,
   "metadata": {},
   "outputs": [],
   "source": [
    "A = train_rating_matrix_centered"
   ]
  },
  {
   "cell_type": "code",
   "execution_count": 9,
   "metadata": {},
   "outputs": [],
   "source": [
    "### k = latent factors in p and q matrix\n",
    "\n",
    "k = 3\n",
    "Q = np.random.uniform(size = (A.shape[0], k))\n",
    "P = np.random.uniform(size = (A.shape[1],k ))\n",
    "\n",
    "# Q = np.copy(u)\n",
    "# P = sig.dot(vh).T"
   ]
  },
  {
   "cell_type": "code",
   "execution_count": 10,
   "metadata": {},
   "outputs": [
    {
     "name": "stdout",
     "output_type": "stream",
     "text": [
      "Initial error on test dataset\n",
      "MSE =  1.312123242455341\n"
     ]
    }
   ],
   "source": [
    "pred_A_lf = Q.dot(P.T)\n",
    "error = 0\n",
    "cnt = 0\n",
    "for i in range(test_rating_matrix_centered.shape[0]):\n",
    "    for j in range(test_rating_matrix_centered.shape[1]):\n",
    "        if test_rating_matrix[i][j] != 0:\n",
    "            error += ((test_rating_matrix_centered[i][j] - pred_A_lf[i][j]) ** 2)\n",
    "            cnt += 1\n",
    "print(\"Initial error on test dataset\")\n",
    "mse = np.sqrt(error/cnt)\n",
    "print(\"MSE = \", mse)"
   ]
  },
  {
   "cell_type": "code",
   "execution_count": 11,
   "metadata": {
    "scrolled": true
   },
   "outputs": [
    {
     "name": "stdout",
     "output_type": "stream",
     "text": [
      "148\n",
      "mod1 =  27.882792652863515\n",
      "mod2 =  3626.6903550137545\n",
      "Mse on train =  1.0352893440632895\n",
      "Mse on test =  1.0510221640038584\n",
      "248\n",
      "mod1 =  11.829187394817804\n",
      "mod2 =  3421.942934313471\n",
      "Mse on train =  1.025371957909922\n",
      "Mse on test =  1.0387435316219655\n"
     ]
    }
   ],
   "source": [
    "Q_prev = 0\n",
    "P_prev = 0\n",
    "mse_train_prev = 1000\n",
    "mse_train = 0\n",
    "mse_test = 0\n",
    "n = 10e-3\n",
    "lambda1 = 1\n",
    "loop = 0\n",
    "while abs(mse_train - mse_train_prev) >= 10e-2 :\n",
    "\n",
    "    mse_train_prev = mse_train\n",
    "    \n",
    "    for i in range(train_rating_matrix.shape[0]):\n",
    "        print(i , end = \"\\r\")\n",
    "        for j in range(train_rating_matrix.shape[1]):\n",
    "            if train_rating_matrix[i][j] != 0:\n",
    "                Apred_lf = Q.dot(P.T)\n",
    "                eij = train_rating_matrix_centered[i][j] - Apred_lf[i][j]\n",
    "                Q[i,:] = Q[i,:] + n * (eij * P[j,:] - lambda1 * Q[i,:])\n",
    "                P[j,:] = P[j,:] + n * (eij * Q[i,:] - lambda1 * P[j,:])\n",
    "                \n",
    "    loop += 1\n",
    "    print(loop)\n",
    "    print(\"mod1 = \", forbenius_norm(Q_prev - Q))\n",
    "    print(\"mod2 = \", forbenius_norm(P_prev - P))\n",
    "    \n",
    "    pred_A_lf = Q.dot(P.T)\n",
    "    error = 0\n",
    "    cnt = 0\n",
    "    for i in range(train_rating_matrix_centered.shape[0]):\n",
    "        for j in range(train_rating_matrix_centered.shape[1]):\n",
    "            if train_rating_matrix[i][j] != 0:\n",
    "                error += ((train_rating_matrix_centered[i][j] - pred_A_lf[i][j]) ** 2)\n",
    "                cnt += 1\n",
    "    mse_train = np.sqrt(error/cnt)\n",
    "#     print(\"Error on train = \", error)\n",
    "    print(\"Mse on train = \", mse_train)\n",
    "    \n",
    "    error = 0\n",
    "    cnt = 0\n",
    "    for i in range(test_rating_matrix_centered.shape[0]):\n",
    "        for j in range(test_rating_matrix_centered.shape[1]):\n",
    "            if test_rating_matrix[i][j] != 0:\n",
    "                error += ((test_rating_matrix_centered[i][j] - pred_A_lf[i][j]) ** 2)\n",
    "                cnt += 1\n",
    "    mse_test = np.sqrt(error/cnt)\n",
    "#     print(\"Error on test= \", error)\n",
    "    print(\"Mse on test = \", mse_test)\n",
    "    \n",
    "    \n",
    "    "
   ]
  },
  {
   "cell_type": "code",
   "execution_count": 12,
   "metadata": {},
   "outputs": [
    {
     "name": "stdout",
     "output_type": "stream",
     "text": [
      "cnt  =  4000\n",
      "1.0387435316219655\n",
      "cnt =  16000\n",
      "1.025371957909922\n"
     ]
    }
   ],
   "source": [
    "pred_A_lf = Q.dot(P.T)\n",
    "error = 0\n",
    "cnt = 0\n",
    "\n",
    "## For test\n",
    "for i in range(test_rating_matrix_centered.shape[0]):\n",
    "    for j in range(test_rating_matrix_centered.shape[1]):\n",
    "        if test_rating_matrix[i][j] != 0:\n",
    "            error += ((test_rating_matrix_centered[i][j] - pred_A_lf[i][j]) ** 2)\n",
    "            cnt += 1\n",
    "\n",
    "mse = np.sqrt(error/cnt)\n",
    "print(\"cnt  = \", cnt)\n",
    "print(mse)\n",
    "\n",
    "error = 0\n",
    "cnt = 0\n",
    "## for train\n",
    "for i in range(train_rating_matrix_centered.shape[0]):\n",
    "    for j in range(train_rating_matrix_centered.shape[1]):\n",
    "        if train_rating_matrix[i][j] != 0:\n",
    "            error += ((train_rating_matrix_centered[i][j] - pred_A_lf[i][j]) ** 2)\n",
    "            cnt += 1\n",
    "mse = np.sqrt(error/cnt)\n",
    "print(\"cnt = \", cnt)\n",
    "print(mse)"
   ]
  },
  {
   "cell_type": "code",
   "execution_count": 13,
   "metadata": {},
   "outputs": [
    {
     "name": "stdout",
     "output_type": "stream",
     "text": [
      "148\n",
      " 1\n",
      "mod1 =  6.265478348887985\n",
      "mod2 =  3258.387424801629\n",
      "error_train =  16743.30592303949\n",
      "Mse_train =  1.0229646231370702\n",
      "error_test=  4285.989408086015\n",
      "Mse_test =  1.0351315626631736\n",
      "148\n",
      " 2\n",
      "mod1 =  3.7953369107972934\n",
      "mod2 =  3123.4417050482784\n",
      "error_train =  16705.512685023128\n",
      "Mse_train =  1.0218094454515212\n",
      "error_test=  4269.514557956364\n",
      "Mse_test =  1.0331401838516838\n"
     ]
    }
   ],
   "source": [
    "#### Alternating least squares method\n",
    "\n",
    "Q_prev = 0\n",
    "P_prev = 0\n",
    "mse_train_prev = 1000\n",
    "mse_train = 0\n",
    "mse_test = 0\n",
    "n = 10e-3\n",
    "lambda1 = 1\n",
    "loop = 0\n",
    "while abs(mse_train - mse_train_prev) > 10e-2:\n",
    "\n",
    "    mse_train_prev = mse_train\n",
    "    \n",
    "    #Modify Q keeping P constant\n",
    "    for i in range(train_rating_matrix.shape[0]):\n",
    "        print(i , end = \"\\r\")\n",
    "        for j in range(train_rating_matrix.shape[1]):\n",
    "            if train_rating_matrix[i][j] != 0:\n",
    "                Apred_lf = Q.dot(P.T)\n",
    "                eij = train_rating_matrix_centered[i][j] - Apred_lf[i][j]\n",
    "                Q[i,:] = Q[i,:] + n * (eij * P[j,:] - lambda1 * Q[i,:])\n",
    "                #P[j,:] = P[j,:] + n * (eij * Q[i,:] - lambda1 * P[j,:])\n",
    "    \n",
    "    #Modify P keeping Q constant\n",
    "    for i in range(train_rating_matrix.shape[0]):\n",
    "        print(i , end = \"\\r\")\n",
    "        for j in range(train_rating_matrix.shape[1]):\n",
    "            if train_rating_matrix[i][j] != 0:\n",
    "                Apred_lf = Q.dot(P.T)\n",
    "                eij = train_rating_matrix_centered[i][j] - Apred_lf[i][j]\n",
    "                #Q[i,:] = Q[i,:] + n * (eij * P[j,:] - lambda1 * Q[i,:])\n",
    "                P[j,:] = P[j,:] + n * (eij * Q[i,:] - lambda1 * P[j,:])\n",
    "    \n",
    "        \n",
    "\n",
    "    loop += 1\n",
    "    print(\"\\n\", loop)\n",
    "    print(\"mod1 = \", forbenius_norm(Q_prev - Q))\n",
    "    print(\"mod2 = \", forbenius_norm(P_prev - P))\n",
    "    \n",
    "    pred_A_lf = Q.dot(P.T)\n",
    "    error = 0\n",
    "    cnt = 0\n",
    "    for i in range(train_rating_matrix_centered.shape[0]):\n",
    "        for j in range(train_rating_matrix_centered.shape[1]):\n",
    "            if train_rating_matrix[i][j] != 0:\n",
    "                error += ((train_rating_matrix_centered[i][j] - pred_A_lf[i][j]) ** 2)\n",
    "                cnt += 1\n",
    "    mse_train = np.sqrt(error/cnt)\n",
    "    print(\"error_train = \", error)\n",
    "    print(\"Mse_train = \", mse_train)\n",
    "    \n",
    "    error = 0\n",
    "    cnt = 0\n",
    "    for i in range(test_rating_matrix_centered.shape[0]):\n",
    "        for j in range(test_rating_matrix_centered.shape[1]):\n",
    "            if test_rating_matrix[i][j] != 0:\n",
    "                error += ((test_rating_matrix_centered[i][j] - pred_A_lf[i][j]) ** 2)\n",
    "                cnt += 1\n",
    "    mse_test = np.sqrt(error/cnt)\n",
    "    print(\"error_test= \", error)\n",
    "    print(\"Mse_test = \", mse_test)\n",
    "    \n",
    "    \n",
    "    "
   ]
  },
  {
   "cell_type": "code",
   "execution_count": 14,
   "metadata": {},
   "outputs": [
    {
     "name": "stdout",
     "output_type": "stream",
     "text": [
      "cnt  =  4000\n",
      "1.0331401838516838\n",
      "cnt =  16000\n",
      "1.0218094454515212\n"
     ]
    }
   ],
   "source": [
    "pred_A_lf = Q.dot(P.T)\n",
    "error = 0\n",
    "cnt = 0\n",
    "\n",
    "## For test\n",
    "for i in range(test_rating_matrix_centered.shape[0]):\n",
    "    for j in range(test_rating_matrix_centered.shape[1]):\n",
    "        if test_rating_matrix[i][j] != 0:\n",
    "            error += ((test_rating_matrix_centered[i][j] - pred_A_lf[i][j]) ** 2)\n",
    "            cnt += 1\n",
    "\n",
    "mse = np.sqrt(error/cnt)\n",
    "print(\"cnt  = \", cnt)\n",
    "print(mse)\n",
    "\n",
    "error = 0\n",
    "cnt = 0\n",
    "## for train\n",
    "for i in range(train_rating_matrix_centered.shape[0]):\n",
    "    for j in range(train_rating_matrix_centered.shape[1]):\n",
    "        if train_rating_matrix[i][j] != 0:\n",
    "            error += ((train_rating_matrix_centered[i][j] - pred_A_lf[i][j]) ** 2)\n",
    "            cnt += 1\n",
    "mse = np.sqrt(error/cnt)\n",
    "print(\"cnt = \", cnt)\n",
    "print(mse)"
   ]
  },
  {
   "cell_type": "code",
   "execution_count": null,
   "metadata": {},
   "outputs": [],
   "source": []
  },
  {
   "cell_type": "code",
   "execution_count": null,
   "metadata": {},
   "outputs": [],
   "source": []
  },
  {
   "cell_type": "code",
   "execution_count": null,
   "metadata": {},
   "outputs": [],
   "source": []
  },
  {
   "cell_type": "code",
   "execution_count": null,
   "metadata": {},
   "outputs": [],
   "source": []
  }
 ],
 "metadata": {
  "kernelspec": {
   "display_name": "Python 3",
   "language": "python",
   "name": "python3"
  },
  "language_info": {
   "codemirror_mode": {
    "name": "ipython",
    "version": 3
   },
   "file_extension": ".py",
   "mimetype": "text/x-python",
   "name": "python",
   "nbconvert_exporter": "python",
   "pygments_lexer": "ipython3",
   "version": "3.6.9"
  }
 },
 "nbformat": 4,
 "nbformat_minor": 2
}
