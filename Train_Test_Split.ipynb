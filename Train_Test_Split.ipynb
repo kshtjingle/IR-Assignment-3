{
 "cells": [
  {
   "cell_type": "code",
   "execution_count": null,
   "metadata": {},
   "outputs": [],
   "source": [
    "import numpy as np\n",
    "import pandas as pd"
   ]
  },
  {
   "cell_type": "code",
   "execution_count": null,
   "metadata": {},
   "outputs": [],
   "source": [
    "\n",
    "def train_test_split(train_fraction):\n",
    "    rating_df_columns = [\"UserId\", \"MovieId\", \"Rating\", \"TimeStamp\"]\n",
    "    rating_df = pd.read_table(\"ml-1m/ratings.dat\", sep=\"::\", names=rating_df_columns)\n",
    "\n",
    "    rating_df.drop(index= range(20000,1000209), inplace=True)\n",
    "\n",
    "    train_rating_df = rating_df.sample(frac = train_fraction, random_state=201)\n",
    "    test_rating_df = rating_df.drop(train_rating_df.index)\n",
    "\n",
    "    train_users = max(train_rating_df[\"UserId\"])\n",
    "    train_movies = max(train_rating_df[\"MovieId\"])\n",
    "\n",
    "    test_users = max(test_rating_df[\"UserId\"])\n",
    "    test_movies = max(test_rating_df[\"MovieId\"])\n",
    "\n",
    "    assert train_users == test_users\n",
    "    assert train_movies == test_movies\n",
    "\n",
    "    train_rating_df = train_rating_df.pivot(index = 'UserId', columns='MovieId', values='Rating').fillna(0)\n",
    "    test_rating_df = test_rating_df.pivot(index = 'UserId', columns='MovieId', values='Rating').fillna(0)\n",
    "\n",
    "    zero_mat = np.zeros(train_users)\n",
    "    for i in range(1, train_movies + 1):\n",
    "        print(i, end = \"\\r\")\n",
    "        if i not in train_rating_df.columns:   \n",
    "            zero_df = pd.DataFrame(zero_mat,columns=[i],index=range(1,150))\n",
    "            train_rating_df = train_rating_df.join(zero_df)\n",
    "        if i not in test_rating_df.columns:\n",
    "            zero_df = pd.DataFrame(zero_mat,columns=[i],index=range(1,150))\n",
    "            test_rating_df = test_rating_df.join(zero_df)\n",
    "\n",
    "    train_rating_df = train_rating_df[range(1, train_movies + 1)]\n",
    "    test_rating_df = test_rating_df[range(1, test_movies + 1)]\n",
    "\n",
    "    train_rating_matrix = np.asarray(train_rating_df)\n",
    "    test_rating_matrix = np.asarray(test_rating_df)\n",
    "\n",
    "    assert train_rating_matrix.shape == test_rating_matrix.shape\n",
    "\n",
    "    return train_rating_matrix, test_rating_matrix"
   ]
  },
  {
   "cell_type": "code",
   "execution_count": null,
   "metadata": {},
   "outputs": [],
   "source": [
    "train_rating_matrix, test_rating_matrix = Train_Test_Split.train_test_split(0.8)"
   ]
  },
  {
   "cell_type": "code",
   "execution_count": null,
   "metadata": {},
   "outputs": [],
   "source": [
    "def mean_center(train_rating_matrix, test_rating_matrix):\n",
    "    assert train_rating_matrix.shape == test_rating_matrix.shape\n",
    "    A = train_rating_matrix + test_rating_matrix\n",
    "    \n",
    "    train_rating_matrix_centered = np.zeros(A.shape)\n",
    "    test_rating_matrix_centered = np.zeros(A.shape)\n",
    "    \n",
    "    for row in range(A.shape[0]):\n",
    "        ratings_sum = A[row].sum()\n",
    "        movies_rated = (A[row] > 0).sum()\n",
    "        mean = ratings_sum/movies_rated\n",
    "        for i in train_rating_matrix[row].nonzero():\n",
    "            train_rating_matrix_centered[row][i] = A[row][i] - mean\n",
    "        for j in test_rating_matrix[row].nonzero():\n",
    "            test_rating_matrix_centered[row][j] = A[row][j] - mean\n",
    "    return train_rating_matrix_centered, test_rating_matrix_centered"
   ]
  },
  {
   "cell_type": "code",
   "execution_count": null,
   "metadata": {},
   "outputs": [],
   "source": []
  }
 ],
 "metadata": {
  "kernelspec": {
   "display_name": "Python 3",
   "language": "python",
   "name": "python3"
  },
  "language_info": {
   "codemirror_mode": {
    "name": "ipython",
    "version": 3
   },
   "file_extension": ".py",
   "mimetype": "text/x-python",
   "name": "python",
   "nbconvert_exporter": "python",
   "pygments_lexer": "ipython3",
   "version": "3.6.9"
  }
 },
 "nbformat": 4,
 "nbformat_minor": 2
}
