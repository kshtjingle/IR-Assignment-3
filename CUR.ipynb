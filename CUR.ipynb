{
 "cells": [
  {
   "cell_type": "code",
   "execution_count": 1,
   "metadata": {},
   "outputs": [],
   "source": [
    "import numpy as np\n",
    "import pandas as pd"
   ]
  },
  {
   "cell_type": "code",
   "execution_count": 2,
   "metadata": {},
   "outputs": [
    {
     "name": "stderr",
     "output_type": "stream",
     "text": [
      "/home/vedant/anaconda3/lib/python3.6/site-packages/ipykernel_launcher.py:2: ParserWarning: Falling back to the 'python' engine because the 'c' engine does not support regex separators (separators > 1 char and different from '\\s+' are interpreted as regex); you can avoid this warning by specifying engine='python'.\n",
      "  \n"
     ]
    }
   ],
   "source": [
    "rating_df_columns = [\"UserId\", \"MovieId\", \"Rating\", \"TimeStamp\"]\n",
    "rating_df = pd.read_table(\"ml-1m/ratings.dat\", sep=\"::\", names=rating_df_columns)"
   ]
  },
  {
   "cell_type": "code",
   "execution_count": 3,
   "metadata": {},
   "outputs": [],
   "source": [
    "rating_df.drop(index =range(100000,1000209), inplace=True)"
   ]
  },
  {
   "cell_type": "code",
   "execution_count": 4,
   "metadata": {},
   "outputs": [],
   "source": [
    "rating_matrix = np.asarray(rating_df.pivot(index = \"UserId\", columns = \"MovieId\", values = \"Rating\").fillna(0))"
   ]
  },
  {
   "cell_type": "code",
   "execution_count": 5,
   "metadata": {},
   "outputs": [],
   "source": [
    "### Mean center\n",
    "\n",
    "def mean_center(A):\n",
    "    mean_centered_A = np.copy(A)\n",
    "    for row in range(A.shape[0]):\n",
    "        ratings_sum = A[row].sum()\n",
    "        movies_rated = (A[row] > 0).sum()\n",
    "        mean = ratings_sum/movies_rated\n",
    "        for i in A[row].nonzero():\n",
    "            mean_centered_A[row][i] -= mean\n",
    "    return mean_centered_A"
   ]
  },
  {
   "cell_type": "code",
   "execution_count": 6,
   "metadata": {},
   "outputs": [],
   "source": [
    "def svd(A):\n",
    "    \n",
    "    transpose_flag = 0\n",
    "    if A.shape[0] > A.shape[1]:\n",
    "        transpose_flag = 1\n",
    "        A = A.T\n",
    "    \n",
    "    AAt = np.matmul(A, A.T)\n",
    "    AtA = np.matmul(A.T, A)\n",
    "    \n",
    "    eigenvalue_AAt, eigenvector_AAt = np.linalg.eig(AAt)\n",
    "    eigenvalue_AtA, eigenvector_AtA = np.linalg.eig(AtA)\n",
    "    \n",
    "    eigenvector_AAt_transpose = eigenvector_AAt.T\n",
    "    eigenvector_AtA_transpose = eigenvector_AtA.T\n",
    "    \n",
    "    eigenvector_AAt_transpose[eigenvalue_AAt < 10e-2] = 0\n",
    "    eigenvector_AtA_transpose[eigenvalue_AtA < 10e-2] = 0\n",
    "    eigenvalue_AAt[eigenvalue_AAt < 10e-2] = 0\n",
    "    eigenvalue_AtA[eigenvalue_AtA < 10e-2] = 0\n",
    "    \n",
    "    eigenvalue_AAt = np.sqrt(eigenvalue_AAt.real)\n",
    "    eigenvalue_AtA = np.sqrt(eigenvalue_AtA.real)\n",
    "    \n",
    "    eigenvector_AAt = eigenvector_AAt.real\n",
    "    eigenvector_AtA = eigenvector_AtA.real\n",
    "    \n",
    "    argsort_eigenval_AAt = np.argsort(-eigenvalue_AAt)\n",
    "    argsort_eigenval_AtA = np.argsort(-eigenvalue_AtA)\n",
    "    \n",
    "    U = np.zeros(eigenvector_AAt.shape)\n",
    "    sigma1 = np.sort(eigenvalue_AAt)[::-1]\n",
    "    \n",
    "    V = np.zeros(eigenvector_AtA.shape)\n",
    "    sigma2 = (np.sort(eigenvalue_AtA))[::-1]\n",
    "    for i,j in enumerate(argsort_eigenval_AtA):\n",
    "        V[:,i] = eigenvector_AtA[:,j]\n",
    "        \n",
    "    sigma = np.zeros(A.shape)\n",
    "    sigma[:, :A.shape[0]] = np.diag(sigma1)\n",
    "        \n",
    "    for i in range(U.shape[1]):\n",
    "        if sigma1[i] != 0:\n",
    "            U[:,i] = (A.dot(V[:,i]))/sigma1[i]\n",
    "        else:\n",
    "            U[:,i] = 0\n",
    "        \n",
    "    if transpose_flag == 0:\n",
    "        return U, sigma, V.T\n",
    "    else:\n",
    "        return V, sigma.T, U.T"
   ]
  },
  {
   "cell_type": "code",
   "execution_count": 7,
   "metadata": {},
   "outputs": [],
   "source": [
    "A = rating_matrix"
   ]
  },
  {
   "cell_type": "code",
   "execution_count": 8,
   "metadata": {},
   "outputs": [
    {
     "data": {
      "text/plain": [
       "(669, 3264)"
      ]
     },
     "execution_count": 8,
     "metadata": {},
     "output_type": "execute_result"
    }
   ],
   "source": [
    "A.shape"
   ]
  },
  {
   "cell_type": "code",
   "execution_count": 11,
   "metadata": {},
   "outputs": [],
   "source": [
    "column_len = []\n",
    "for i in range(A.shape[1]):\n",
    "    length = np.dot(A[:,i], A[:,i])\n",
    "    column_len.append(length)\n",
    "    \n",
    "column_len = np.asarray(column_len)\n",
    "column_prob = column_len/column_len.sum()\n",
    "\n",
    "row_len = []\n",
    "for i in range(A.shape[0]):\n",
    "    length = np.dot(A[i,:], A[i,:])\n",
    "    row_len.append(length)\n",
    "row_len = np.asarray(row_len)\n",
    "row_prob = row_len/row_len.sum()"
   ]
  },
  {
   "cell_type": "code",
   "execution_count": 12,
   "metadata": {},
   "outputs": [],
   "source": [
    "columns = 1500\n",
    "rows = 300\n",
    "np.random.seed(201)\n",
    "selected_columns = np.random.choice(range(column_len.shape[0]), size = (columns), replace = True, p = column_prob)\n",
    "selected_rows = np.random.choice(range(row_len.shape[0]), size = (rows), replace = True, p = row_prob)\n"
   ]
  },
  {
   "cell_type": "code",
   "execution_count": 13,
   "metadata": {},
   "outputs": [],
   "source": [
    "selected_rows.sort()\n",
    "selected_columns.sort()"
   ]
  },
  {
   "cell_type": "code",
   "execution_count": 14,
   "metadata": {},
   "outputs": [],
   "source": [
    "C = np.zeros((A.shape[0], columns))\n",
    "R = np.zeros((rows, A.shape[1]))\n",
    "W = np.zeros((rows, columns))"
   ]
  },
  {
   "cell_type": "code",
   "execution_count": 16,
   "metadata": {},
   "outputs": [],
   "source": [
    "for i,j in enumerate(selected_columns):\n",
    "    C[:,i] = A[:,j]/(np.sqrt(columns * column_len[j]))\n",
    "    \n",
    "for i,j in enumerate(selected_rows):\n",
    "    R[i,:] = A[j,:]/(np.sqrt(rows * row_len[j]))"
   ]
  },
  {
   "cell_type": "code",
   "execution_count": 17,
   "metadata": {},
   "outputs": [],
   "source": [
    "for i,j in enumerate(selected_rows):\n",
    "    for k,l in enumerate(selected_columns):\n",
    "        W[i,k] = A[j,l]"
   ]
  },
  {
   "cell_type": "code",
   "execution_count": 18,
   "metadata": {},
   "outputs": [],
   "source": [
    "X, Z, Y_transpose = svd(W)\n"
   ]
  },
  {
   "cell_type": "code",
   "execution_count": 19,
   "metadata": {},
   "outputs": [],
   "source": [
    "#  x, s , y_transpose = np.linalg.svd(W)\n",
    "# z = np.zeros(W.shape)\n",
    "# z[:rows, :rows] = np.diag(s)\n",
    "# Z = z"
   ]
  },
  {
   "cell_type": "code",
   "execution_count": 20,
   "metadata": {},
   "outputs": [],
   "source": [
    "W_pred = X.dot(Z.dot(Y_transpose))"
   ]
  },
  {
   "cell_type": "code",
   "execution_count": 21,
   "metadata": {},
   "outputs": [
    {
     "data": {
      "text/plain": [
       "1.4755692478892702e-25"
      ]
     },
     "execution_count": 21,
     "metadata": {},
     "output_type": "execute_result"
    }
   ],
   "source": [
    "(((W_pred - W) ** 2).sum()/ (W.shape[0] * W.shape[1]))"
   ]
  },
  {
   "cell_type": "code",
   "execution_count": 22,
   "metadata": {},
   "outputs": [],
   "source": [
    "Z_plus = np.zeros(Z.shape)\n",
    "for i in range(Z.shape[0]):\n",
    "    for j in range(Z.shape[1]):\n",
    "        if Z[i][j] != 0:\n",
    "            Z_plus[i][j] = 1/Z[i][j]"
   ]
  },
  {
   "cell_type": "code",
   "execution_count": 23,
   "metadata": {},
   "outputs": [],
   "source": [
    "U = (Y_transpose.T).dot((Z_plus.T).dot(X.T))"
   ]
  },
  {
   "cell_type": "code",
   "execution_count": 24,
   "metadata": {},
   "outputs": [],
   "source": [
    "A_pred = C.dot(U.dot(R))"
   ]
  },
  {
   "cell_type": "code",
   "execution_count": 25,
   "metadata": {},
   "outputs": [
    {
     "name": "stdout",
     "output_type": "stream",
     "text": [
      "0.8084692882038685\n"
     ]
    }
   ],
   "source": [
    "mse = np.sqrt( ((A_pred - A)**2).sum()/ (A.shape[0]*A.shape[1]) )\n",
    "print(mse)"
   ]
  },
  {
   "cell_type": "code",
   "execution_count": null,
   "metadata": {},
   "outputs": [],
   "source": []
  }
 ],
 "metadata": {
  "kernelspec": {
   "display_name": "Python 3",
   "language": "python",
   "name": "python3"
  },
  "language_info": {
   "codemirror_mode": {
    "name": "ipython",
    "version": 3
   },
   "file_extension": ".py",
   "mimetype": "text/x-python",
   "name": "python",
   "nbconvert_exporter": "python",
   "pygments_lexer": "ipython3",
   "version": "3.6.9"
  }
 },
 "nbformat": 4,
 "nbformat_minor": 2
}
